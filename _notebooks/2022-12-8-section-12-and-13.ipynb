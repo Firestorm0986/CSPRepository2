{
 "cells": [
  {
   "cell_type": "markdown",
   "metadata": {},
   "source": [
    "# Section 12 and 13 Notes\n",
    "> Sections 12 and 13 of big idea 3\n",
    "\n",
    "- toc: true\n",
    "- layout: post\n",
    "- description: Big Idea 3 sections 12 and 13\n",
    "- categories: [week-1]\n",
    "- title: Section 12 and 13\n",
    "- author: Aditya Ajay Nawandhar\n",
    "- show_tags: true\n",
    "- comments: true\n",
    "- image: images/postimage3.png"
   ]
  },
  {
   "cell_type": "markdown",
   "metadata": {},
   "source": [
    "## Notes: \n",
    "- to crea a unique function in javasctript we use function as opposed to def in python.\n",
    "- Procedure:is a named group of programming instructions that may have parameters and return values.\n",
    "- Parameters:are input values of a procedure.\n",
    "- Arguments: specify the values of the parameters when a procedure is called\n",
    "- Modularity:Separating a program's functions into independent pieces or blocks, each containing all the parts needed to execute a single aspect of the functionality is called modularity\n",
    "- Procedural Abstraction: provides a name for a process that allows a procedure to be used only knowing WHAT it does, not HOW it does it\n",
    "- What are some other names for procedures?: can be anything that you want, \n",
    "- Why are procedures effective? We have the ability to alter the result without actually changing the calls to the program; Convenient to change the actions if there is an error in the code; able to break the code up and abstract what different part of the code does; helps identiy bugs, error"
   ]
  },
  {
   "cell_type": "markdown",
   "metadata": {},
   "source": [
    "### challnge 1"
   ]
  },
  {
   "cell_type": "code",
   "execution_count": 1,
   "metadata": {
    "vscode": {
     "languageId": "javascript"
    }
   },
   "outputs": [
    {
     "name": "stdout",
     "output_type": "stream",
     "text": [
      "111\n"
     ]
    }
   ],
   "source": [
    "function convert(inti){\n",
    "    return (inti).toString(2)\n",
    "}\n",
    "\n",
    "decimal = 7\n",
    "console.log(convert(decimal))"
   ]
  },
  {
   "cell_type": "markdown",
   "metadata": {},
   "source": [
    "### Challege 2\n"
   ]
  },
  {
   "cell_type": "code",
   "execution_count": 1,
   "metadata": {},
   "outputs": [
    {
     "name": "stdout",
     "output_type": "stream",
     "text": [
      "3\n",
      "None\n",
      "4\n",
      "None\n"
     ]
    }
   ],
   "source": [
    "# Start by creating a procedure called findMax and set the parameters to numberA and numberB.\n",
    "def findmax(a, b):\n",
    "    if a > b:\n",
    "        print(a)\n",
    "    elif b > a:\n",
    "        print(b)\n",
    "    else:\n",
    "        print(\"they are equal\")\n",
    "        \n",
    "def findmin(c, d):\n",
    "    if c < d:\n",
    "        print(c)\n",
    "    elif c < d:\n",
    "        print(d)\n",
    "    else:\n",
    "        print(\"they are equal\")\n",
    "        \n",
    "\n",
    "print(findmax(2, 3))\n",
    "print(findmin(4,5))\n",
    "        \n",
    "# Within the procedure, write the code to determine which of the two parameters, numberA or numberB, is the larger value. Print that value.\n",
    "\n",
    "# Repeat the process, this time creating a procedure called findMin, which will print the parameter with a smaller value.\n",
    "\n",
    "# Call both functions so that the parameters numberA and numberB are given a value.\n",
    "\n",
    "# Optional bonus- create a procedure that can determine the minimum or maximum value out of more than two parameters."
   ]
  },
  {
   "cell_type": "code",
   "execution_count": 1,
   "metadata": {
    "vscode": {
     "languageId": "javascript"
    }
   },
   "outputs": [
    {
     "name": "stdout",
     "output_type": "stream",
     "text": [
      "3\n",
      "4\n"
     ]
    }
   ],
   "source": [
    "function findmax(numberA, numberb){\n",
    "    if(numberA > numberb){\n",
    "        console.log(numberA)\n",
    "    }\n",
    "    else {\n",
    "        console.log(numberb)\n",
    "    }\n",
    "}\n",
    "\n",
    "function findmin(numberA, numberb){\n",
    "    if(numberA < numberb){\n",
    "        console.log(numberA)\n",
    "    }\n",
    "    else {\n",
    "        console.log(numberb)\n",
    "    }\n",
    "}\n",
    "\n",
    "findmax(2, 3)\n",
    "findmin(4, 5)"
   ]
  },
  {
   "cell_type": "markdown",
   "metadata": {},
   "source": [
    "## Homework \n",
    "- Another way we can do it is by using the ord function to convert every letter in the string APCSP into their corresponding number using ord() function which returns the unicode for a specified character. \n",
    "- then using the bin() function that converts number to binary and print that."
   ]
  },
  {
   "cell_type": "code",
   "execution_count": 3,
   "metadata": {},
   "outputs": [
    {
     "name": "stdout",
     "output_type": "stream",
     "text": [
      "The original string is :  APCSP\n",
      "The string after binary conversion :  0100000101010000010000110101001101010000\n"
     ]
    }
   ],
   "source": [
    "str = input(\"any word or sentence: \")\n",
    "print(\"The original string is : \", str)\n",
    "\n",
    "result = ''.join(format(i, '08b') for i in bytearray(str, encoding ='utf-8'))\n",
    "print(\"The string after binary conversion : \", result)"
   ]
  }
 ],
 "metadata": {
  "kernelspec": {
   "display_name": "Python 3.9.12 ('base')",
   "language": "python",
   "name": "python3"
  },
  "language_info": {
   "codemirror_mode": {
    "name": "ipython",
    "version": 3
   },
   "file_extension": ".py",
   "mimetype": "text/x-python",
   "name": "python",
   "nbconvert_exporter": "python",
   "pygments_lexer": "ipython3",
   "version": "3.9.12"
  },
  "orig_nbformat": 4,
  "vscode": {
   "interpreter": {
    "hash": "ffda36da5e336773557fa7c30d144cf9d160c713e7c8b02e8b2fa513010a8eb7"
   }
  }
 },
 "nbformat": 4,
 "nbformat_minor": 2
}
