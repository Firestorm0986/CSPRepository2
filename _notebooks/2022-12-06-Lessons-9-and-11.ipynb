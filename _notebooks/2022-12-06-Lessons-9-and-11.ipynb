{
 "cells": [
  {
   "cell_type": "markdown",
   "metadata": {},
   "source": [
    "# Section 9 and 11 Notes\n",
    "> APIs can be found all over the internet.  A great consolidator of many APIs is\n",
    "\n",
    "- toc: true\n",
    "- layout: post\n",
    "- description: Big Idea 3 sections 9 and 11\n",
    "- categories: [week-1]\n",
    "- title: Section 9 and 11\n",
    "- author: Aditya Ajay Nawandhar\n",
    "- show_tags: true\n",
    "- comments: true\n",
    "- image: images/postimage3.png"
   ]
  },
  {
   "cell_type": "markdown",
   "metadata": {},
   "source": [
    "## Notes 3.9\n",
    "- Searching - Searching algorithms could be done in either intervals or sequences, and certain algorithms could be more efficient than others, with benefits and drawbacks to each.\n",
    "- Sequencal serch cannot keep up with large inputs, the run time will be too long.\n",
    "- Binary search is an efficient way to iterate through a SORTED list to find a requested value. This is done through checking the middle value of a list and checking if the requested value is greater than or less than the middle value.\n",
    "- This algorithm is extremely efficient as the maximum number of cycles in binary search is equal to log base 2 of the closest, next power of two, to length of list.\n",
    "- Devloping Algorithms - "
   ]
  },
  {
   "cell_type": "markdown",
   "metadata": {},
   "source": [
    "## Homework - \n",
    "Given a specific integer N, return the square root of N (R) if N is a perfect square, otherwise, return the square root of N rounded down to the nearest integer\n",
    "\n",
    "Input: N (Integer)\n",
    "\n",
    "Output: R (Integer)\n",
    "\n",
    "Constraints: Do not use any built-in math operations such as sqrt(x), Try complete the problem in logarithmic time."
   ]
  },
  {
   "cell_type": "code",
   "execution_count": 33,
   "metadata": {},
   "outputs": [],
   "source": [
    "# I use // for the code as it does floor division\n",
    "def sqrt(N):\n",
    "    if \n",
    "\tbegin = 1\n",
    "\tstop = N//2\n",
    "\tprint(stop)\n",
    "\twhile (stop >= begin):\n",
    "\t\tuse = begin + stop\n",
    "\t\tprint(use)\n",
    "\t\tmean = use // 2\n",
    "\t\tprint(mean)\n",
    "\t\tprint(mean*mean)\n",
    "\t\tif (mean*mean == N):\n",
    "\t\t\treturn mean\n",
    "\t\tif (mean * mean < N):\n",
    "\t\t\tbegin = mean + 1\n",
    "\t\t\tans = mean\n",
    "\t\telse:\n",
    "\t\t\tstop = mean-1\n",
    "\treturn ans\n",
    "\n",
    "\n",
    "\n"
   ]
  },
  {
   "cell_type": "code",
   "execution_count": 35,
   "metadata": {},
   "outputs": [
    {
     "name": "stdout",
     "output_type": "stream",
     "text": [
      "0\n"
     ]
    }
   ],
   "source": [
    "def sqrta(n):\n",
    "    k = n\n",
    "    l = (k + 1) \n",
    "    c = l // 2\n",
    "    while c < k:\n",
    "        c = (k + n // k) // 2\n",
    "        k = c\n",
    "    return k\n",
    "\n",
    "print(sqrta(0))"
   ]
  },
  {
   "cell_type": "markdown",
   "metadata": {},
   "source": [
    "## Notes 3.11\n",
    "- To creat algorythms we need to first underttand the question or wht is needed.\n",
    "- Algoriths are set of instructions for the computer to perform a certain task.\n",
    "- Javascript - if, else syntax - if (condition) {\n",
    "\n",
    "} else if (condition 2) {\n",
    "\n",
    "} else {\n",
    "\n",
    "}\n",
    "- for loops syntax javascript - for (let i = number; i < number; i++) {\n",
    "    // code\n",
    "}\n",
    "- Conditionals and booleans can be equivalent.\n"
   ]
  },
  {
   "cell_type": "code",
   "execution_count": 1,
   "metadata": {},
   "outputs": [
    {
     "name": "stdout",
     "output_type": "stream",
     "text": [
      "True\n"
     ]
    }
   ],
   "source": [
    "def mystery(num, num2):\n",
    "    if (num % num2 == 0):\n",
    "        print(\"True\")\n",
    "    else:\n",
    "        print(\"False\")\n",
    "\n",
    "mystery(20, 4)"
   ]
  },
  {
   "cell_type": "markdown",
   "metadata": {},
   "source": [
    "### Expalining the code\n",
    "- The code above checks weather num is divisible by num2\n",
    "- false"
   ]
  },
  {
   "cell_type": "code",
   "execution_count": 2,
   "metadata": {},
   "outputs": [
    {
     "name": "stdout",
     "output_type": "stream",
     "text": [
      "it is too hot outside\n"
     ]
    }
   ],
   "source": [
    "temp = 95\n",
    "if (temp >= 90):\n",
    "    print(\"it is too hot outside\")\n",
    "else:\n",
    "    if (temp >= 65):\n",
    "        print(\"I will go outside\")\n",
    "    else:\n",
    "        print(\"it is too cold outside\")"
   ]
  },
  {
   "cell_type": "code",
   "execution_count": 16,
   "metadata": {},
   "outputs": [
    {
     "name": "stdout",
     "output_type": "stream",
     "text": [
      "it is too hot outside\n"
     ]
    }
   ],
   "source": [
    "temp = 95\n",
    "if (temp >= 90):\n",
    "    print(\"it is too hot outside\")\n",
    "elif (temp >= 65):\n",
    "    print(\"i will go outside\")\n",
    "else:\n",
    "    print(\"it is too cold outside\")"
   ]
  },
  {
   "cell_type": "markdown",
   "metadata": {},
   "source": [
    "### explaining code 2\n",
    "- This segement of code checks weather the temprature is too high or low and outputs based on this that it is hot outside or cold outside.\n",
    "- the seconf peice of code segemt outputs \"I will fo outside if temprature is greater equal than 65\"\n",
    "- Did the task "
   ]
  },
  {
   "cell_type": "code",
   "execution_count": 19,
   "metadata": {},
   "outputs": [
    {
     "name": "stdout",
     "output_type": "stream",
     "text": [
      "25\n"
     ]
    }
   ],
   "source": [
    "sum = 0\n",
    "counter = 1\n",
    "for i in range (0, 10):\n",
    "    if i % 2 != 0:\n",
    "        sum = sum + i\n",
    "print(sum)"
   ]
  },
  {
   "cell_type": "markdown",
   "metadata": {},
   "source": [
    "### Challenge\n",
    "Using JavaScript, create an algorithm that takes in an IP address and a subnet mask and computes the network address.\n",
    "steps - convert ip and subnet to binary, add them and convert the sum to numner to get the network address. "
   ]
  },
  {
   "cell_type": "markdown",
   "metadata": {},
   "source": [
    "## Homework 2\n",
    "Create an algorithm that will start with any positive integer n and display the full sequence of numbers that result from the Collatz Conjecture. The COllatz Conjecture is as follows:\n",
    "\n",
    "start with any positive integer\n",
    "if the number is even, divide by 2\n",
    "if the number is odd, multiply by 3 and add 1\n",
    "repeat steps 2 and 3 until you reach 1\n",
    "Example: if the starting number was 6, the output would be 6, 3, 10, 5, 16, 8, 4, 2, 1"
   ]
  },
  {
   "cell_type": "code",
   "execution_count": null,
   "metadata": {},
   "outputs": [],
   "source": []
  }
 ],
 "metadata": {
  "kernelspec": {
   "display_name": "Python 3.9.12 ('base')",
   "language": "python",
   "name": "python3"
  },
  "language_info": {
   "codemirror_mode": {
    "name": "ipython",
    "version": 3
   },
   "file_extension": ".py",
   "mimetype": "text/x-python",
   "name": "python",
   "nbconvert_exporter": "python",
   "pygments_lexer": "ipython3",
   "version": "3.9.12"
  },
  "orig_nbformat": 4,
  "vscode": {
   "interpreter": {
    "hash": "ffda36da5e336773557fa7c30d144cf9d160c713e7c8b02e8b2fa513010a8eb7"
   }
  }
 },
 "nbformat": 4,
 "nbformat_minor": 2
}
