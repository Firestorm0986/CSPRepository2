{
 "cells": [
  {
   "cell_type": "markdown",
   "metadata": {},
   "source": [
    "# Section 9 and 11 Notes\n",
    "> APIs can be found all over the internet.  A great consolidator of many APIs is\n",
    "\n",
    "- toc: true\n",
    "- layout: post\n",
    "- description: Big Idea 3 sections 9 and 11\n",
    "- categories: [week-1]\n",
    "- title: Section 9 and 11\n",
    "- author: Aditya Ajay Nawandhar\n",
    "- show_tags: true\n",
    "- comments: true\n",
    "- image: images/postimage3.png"
   ]
  },
  {
   "cell_type": "markdown",
   "metadata": {},
   "source": [
    "## Notes 3.9\n",
    "- Searching - Searching algorithms could be done in either intervals or sequences, and certain algorithms could be more efficient than others, with benefits and drawbacks to each.\n",
    "- Sequencal serch cannot keep up with large inputs, the run time will be too long.\n",
    "- Binary search is an efficient way to iterate through a SORTED list to find a requested value. This is done through checking the middle value of a list and checking if the requested value is greater than or less than the middle value.\n",
    "- This algorithm is extremely efficient as the maximum number of cycles in binary search is equal to log base 2 of the closest, next power of two, to length of list.\n",
    "- Devloping Algorithms - "
   ]
  },
  {
   "cell_type": "markdown",
   "metadata": {},
   "source": [
    "## Homework - \n",
    "Given a specific integer N, return the square root of N (R) if N is a perfect square, otherwise, return the square root of N rounded down to the nearest integer\n",
    "\n",
    "Input: N (Integer)\n",
    "\n",
    "Output: R (Integer)\n",
    "\n",
    "Constraints: Do not use any built-in math operations such as sqrt(x), Try complete the problem in logarithmic time.\n",
    "\n",
    "## Answer\n",
    "- I tried to do it with binary search but I looked at the solution and now know how to do it also do not know any other solution so, I did not do that. Instead I did the program in javascript instead to compensate.\n",
    "- The first code segement is the ufisnished binary search while the second one is the cone without binary search and works."
   ]
  },
  {
   "cell_type": "code",
   "execution_count": 69,
   "metadata": {
    "vscode": {
     "languageId": "javascript"
    }
   },
   "outputs": [
    {
     "name": "stdout",
     "output_type": "stream",
     "text": [
      "18\n",
      "None\n"
     ]
    }
   ],
   "source": [
    "def sqrttt(n):\n",
    "    k = n//2\n",
    "    print(k)\n",
    "    while k > 1:\n",
    "        k = 1 + k\n",
    "        l = k // 2\n",
    "        if (l*l == n):\n",
    "            return l\n",
    "        else:\n",
    "            break\n",
    "\n",
    "print(sqrt(36))"
   ]
  },
  {
   "cell_type": "code",
   "execution_count": 90,
   "metadata": {},
   "outputs": [],
   "source": [
    "def sqrt(inti):\n",
    "    if (inti == 0 or inti == 1):\n",
    "        return inti\n",
    "    \n",
    "    while inti > 1:\n",
    "        for x in range(1, 1000000):\n",
    "            if x*x//2 == inti//2:\n",
    "                inti = inti - inti\n",
    "                return x\n",
    "                \n",
    "            else: \n",
    "                pass\n"
   ]
  },
  {
   "cell_type": "code",
   "execution_count": 3,
   "metadata": {
    "vscode": {
     "languageId": "javascript"
    }
   },
   "outputs": [
    {
     "ename": "SyntaxError",
     "evalue": "invalid syntax (1695421979.py, line 1)",
     "output_type": "error",
     "traceback": [
      "\u001b[0;36m  Input \u001b[0;32mIn [3]\u001b[0;36m\u001b[0m\n\u001b[0;31m    function tSqrt(y)\u001b[0m\n\u001b[0m             ^\u001b[0m\n\u001b[0;31mSyntaxError\u001b[0m\u001b[0;31m:\u001b[0m invalid syntax\n"
     ]
    }
   ],
   "source": [
    "\n",
    "function tSqrt(y)\n",
    "{\n",
    "     \n",
    "    if (y == 0 || y == 1)\n",
    "        return y;\n",
    "    \n",
    "    let i = 1;\n",
    "    let result = 1;\n",
    "     \n",
    "    while (result <= y)\n",
    "    {\n",
    "        i++;\n",
    "        result = i * i;\n",
    "    }\n",
    "    return i - 1;\n",
    "}\n",
    "\n",
    "let x = 11;\n",
    "document.write(scriptSqrt(x));\n"
   ]
  },
  {
   "cell_type": "code",
   "execution_count": 91,
   "metadata": {},
   "outputs": [
    {
     "name": "stdout",
     "output_type": "stream",
     "text": [
      "Check number 1 passed\n",
      "Check number 2 passed\n",
      "Check number 3 passed\n",
      "Check number 4 passed\n",
      "Check number 5 passed\n",
      "Check number 6 passed\n",
      "Check number 7 passed\n",
      "Check number 8 passed\n",
      "Check number 9 passed\n",
      "Check number 10 passed\n",
      "Check number 11 passed\n",
      "Check number 12 passed\n",
      "Check number 13 passed\n"
     ]
    }
   ],
   "source": [
    "from math import sqrt as sq\n",
    "test_cases = [0,1,4,85248289,22297284,18939904,91107025,69122596,9721924,37810201,1893294144,8722812816,644398225]\n",
    "answers = [int(sq(x)) for x in test_cases]\n",
    "\n",
    "def checkValid():\n",
    "    for i in range(len(test_cases)):\n",
    "        if sqrt(test_cases[i]) == answers[i]:\n",
    "            print(\"Check number {} passed\".format(i+1))\n",
    "        else:\n",
    "            print(\"Check number {} failed\".format(i+1))\n",
    "\n",
    "checkValid()"
   ]
  },
  {
   "cell_type": "markdown",
   "metadata": {},
   "source": [
    "## Notes 3.11\n",
    "- To creat algorythms we need to first underttand the question or wht is needed.\n",
    "- Algoriths are set of instructions for the computer to perform a certain task.\n",
    "- Javascript - if, else syntax - if (condition) {\n",
    "\n",
    "} else if (condition 2) {\n",
    "\n",
    "} else {\n",
    "\n",
    "}\n",
    "- for loops syntax javascript - for (let i = number; i < number; i++) {\n",
    "    // code\n",
    "}\n",
    "- Conditionals and booleans can be equivalent.\n"
   ]
  },
  {
   "cell_type": "code",
   "execution_count": 1,
   "metadata": {},
   "outputs": [
    {
     "name": "stdout",
     "output_type": "stream",
     "text": [
      "True\n"
     ]
    }
   ],
   "source": [
    "def mystery(num, num2):\n",
    "    if (num % num2 == 0):\n",
    "        print(\"True\")\n",
    "    else:\n",
    "        print(\"False\")\n",
    "\n",
    "mystery(20, 4)"
   ]
  },
  {
   "cell_type": "markdown",
   "metadata": {},
   "source": [
    "### Expalining the code\n",
    "- The code above checks weather num is divisible by num2\n",
    "- false"
   ]
  },
  {
   "cell_type": "code",
   "execution_count": 2,
   "metadata": {
    "vscode": {
     "languageId": "javascript"
    }
   },
   "outputs": [
    {
     "name": "stdout",
     "output_type": "stream",
     "text": [
      "it is too hot outside\n"
     ]
    }
   ],
   "source": [
    "temp = 95\n",
    "if (temp >= 90):\n",
    "    print(\"it is too hot outside\")\n",
    "else:\n",
    "    if (temp >= 65):\n",
    "        print(\"I will go outside\")\n",
    "    else:\n",
    "        print(\"it is too cold outside\")"
   ]
  },
  {
   "cell_type": "code",
   "execution_count": 16,
   "metadata": {},
   "outputs": [
    {
     "name": "stdout",
     "output_type": "stream",
     "text": [
      "it is too hot outside\n"
     ]
    }
   ],
   "source": [
    "temp = 95\n",
    "if (temp >= 90):\n",
    "    print(\"it is too hot outside\")\n",
    "elif (temp >= 65):\n",
    "    print(\"i will go outside\")\n",
    "else:\n",
    "    print(\"it is too cold outside\")"
   ]
  },
  {
   "cell_type": "markdown",
   "metadata": {},
   "source": [
    "### explaining code 2\n",
    "- This segement of code checks weather the temprature is too high or low and outputs based on this that it is hot outside or cold outside.\n",
    "- the seconf peice of code segemt outputs \"I will fo outside if temprature is greater equal than 65\"\n",
    "- Did the task "
   ]
  },
  {
   "cell_type": "code",
   "execution_count": 19,
   "metadata": {},
   "outputs": [
    {
     "name": "stdout",
     "output_type": "stream",
     "text": [
      "25\n"
     ]
    }
   ],
   "source": [
    "sum = 0\n",
    "counter = 1\n",
    "for i in range (0, 10):\n",
    "    if i % 2 != 0:\n",
    "        sum = sum + i\n",
    "print(sum)"
   ]
  },
  {
   "cell_type": "markdown",
   "metadata": {},
   "source": [
    "### Challenge\n",
    "Using JavaScript, create an algorithm that takes in an IP address and a subnet mask and computes the network address.\n",
    "steps - convert ip and subnet to binary, add them and convert the sum to numner to get the network address. "
   ]
  },
  {
   "cell_type": "code",
   "execution_count": 1,
   "metadata": {
    "vscode": {
     "languageId": "javascript"
    }
   },
   "outputs": [
    {
     "name": "stdout",
     "output_type": "stream",
     "text": [
      "101\n"
     ]
    }
   ],
   "source": [
    "function convert(inti){\n",
    "    for (i in inti){\n",
    "        if (i == \".\"){\n",
    "\n",
    "        }\n",
    "    }\n",
    "\n",
    "    return (inti).toString(2)\n",
    "}\n",
    "\n",
    "console.log(convert(5))"
   ]
  },
  {
   "cell_type": "code",
   "execution_count": 24,
   "metadata": {},
   "outputs": [
    {
     "name": "stdout",
     "output_type": "stream",
     "text": [
      "['128', '32', '10', '1']\n",
      "['010000000', '0100000', '01010', '01']\n",
      "010000000.0100000.01010.01\n"
     ]
    }
   ],
   "source": [
    "x = \"128.32.10.1\"\n",
    "y = x.split(\".\")\n",
    "print(y)\n",
    "n = []\n",
    "for i in y :\n",
    "    s = int(i)\n",
    "    l = bin(s).replace(\"0b\", \"0\")\n",
    "    k = n.append(l)\n",
    "print(n)\n",
    "\n",
    "values = \".\".join(n)\n",
    "print(values)\n"
   ]
  },
  {
   "cell_type": "markdown",
   "metadata": {},
   "source": [
    "## Homework 2\n",
    "Create an algorithm that will start with any positive integer n and display the full sequence of numbers that result from the Collatz Conjecture. The COllatz Conjecture is as follows:\n",
    "\n",
    "start with any positive integer\n",
    "if the number is even, divide by 2\n",
    "if the number is odd, multiply by 3 and add 1\n",
    "repeat steps 2 and 3 until you reach 1\n",
    "Example: if the starting number was 6, the output would be 6, 3, 10, 5, 16, 8, 4, 2, 1"
   ]
  },
  {
   "cell_type": "code",
   "execution_count": 6,
   "metadata": {},
   "outputs": [
    {
     "name": "stdout",
     "output_type": "stream",
     "text": [
      "3.0\n",
      "10.0\n",
      "5.0\n",
      "16.0\n",
      "8.0\n",
      "4.0\n",
      "2.0\n",
      "1.0\n",
      "None\n"
     ]
    }
   ],
   "source": [
    "def collatz(positiveint):\n",
    "    while positiveint > 1:\n",
    "        if positiveint % 2 == 0:\n",
    "            positiveint = positiveint / 2\n",
    "            print(positiveint)\n",
    "        else:\n",
    "            positiveint = (positiveint * 3) + 1\n",
    "            print(positiveint)\n",
    "\n",
    "\n",
    "print(collatz(6))\n"
   ]
  }
 ],
 "metadata": {
  "kernelspec": {
   "display_name": "Python 3.9.12 ('base')",
   "language": "python",
   "name": "python3"
  },
  "language_info": {
   "codemirror_mode": {
    "name": "ipython",
    "version": 3
   },
   "file_extension": ".py",
   "mimetype": "text/x-python",
   "name": "python",
   "nbconvert_exporter": "python",
   "pygments_lexer": "ipython3",
   "version": "3.9.12"
  },
  "orig_nbformat": 4,
  "vscode": {
   "interpreter": {
    "hash": "ffda36da5e336773557fa7c30d144cf9d160c713e7c8b02e8b2fa513010a8eb7"
   }
  }
 },
 "nbformat": 4,
 "nbformat_minor": 2
}
