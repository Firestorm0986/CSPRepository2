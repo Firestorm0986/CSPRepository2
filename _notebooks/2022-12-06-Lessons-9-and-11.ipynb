{
 "cells": [
  {
   "cell_type": "markdown",
   "metadata": {},
   "source": [
    "# Section 9 and 11 Notes\n",
    "> APIs can be found all over the internet.  A great consolidator of many APIs is\n",
    "\n",
    "- toc: true\n",
    "- layout: post\n",
    "- description: Big Idea 3 sections 9 and 11\n",
    "- categories: [week-14]\n",
    "- title: Section 9 and 11\n",
    "- author: Aditya Ajay Nawandhar\n",
    "- show_tags: true\n",
    "- comments: true\n",
    "- image: images/postimage3.png"
   ]
  },
  {
   "cell_type": "markdown",
   "metadata": {},
   "source": [
    "## Notes 3.9\n",
    "- Searching - Searching algorithms could be done in either intervals or sequences, and certain algorithms could be more efficient than others, with benefits and drawbacks to each.\n",
    "- Sequencal serch cannot keep up with large inputs, the run time will be too long.\n",
    "- Binary search is an efficient way to iterate through a SORTED list to find a requested value. This is done through checking the middle value of a list and checking if the requested value is greater than or less than the middle value.\n",
    "- This algorithm is extremely efficient as the maximum number of cycles in binary search is equal to log base 2 of the closest, next power of two, to length of list.\n",
    "- Devloping Algorithms - "
   ]
  },
  {
   "cell_type": "markdown",
   "metadata": {},
   "source": [
    "## Notes 3.11\n",
    "- To creat algorythms we need to first underttand the question or wht is needed.\n",
    "- Algoriths are set of instructions for the computer to perform a certain task.\n",
    "- Javascript - if, else syntax - if (condition) {\n",
    "\n",
    "} else if (condition 2) {\n",
    "\n",
    "} else {\n",
    "\n",
    "}\n",
    "- for loops syntax javascript - for (let i = number; i < number; i++) {\n",
    "    // code\n",
    "}\n",
    "- Conditionals and booleans can be equivalent.\n"
   ]
  },
  {
   "cell_type": "code",
   "execution_count": 6,
   "metadata": {},
   "outputs": [
    {
     "name": "stdout",
     "output_type": "stream",
     "text": [
      "True\n"
     ]
    }
   ],
   "source": [
    "def mystery(num, num2):\n",
    "    if (num % num2 == 0):\n",
    "        print(\"True\")\n",
    "    else:\n",
    "        print(\"False\")\n",
    "\n",
    "mystery(20, 4)"
   ]
  },
  {
   "cell_type": "markdown",
   "metadata": {},
   "source": [
    "### Expalining the code\n",
    "- The code above checks weather num is divisible by num2\n",
    "- false"
   ]
  },
  {
   "cell_type": "code",
   "execution_count": 7,
   "metadata": {},
   "outputs": [
    {
     "name": "stdout",
     "output_type": "stream",
     "text": [
      "it is too hot outside\n"
     ]
    }
   ],
   "source": [
    "temp = 95\n",
    "if (temp >= 90):\n",
    "    print(\"it is too hot outside\")\n",
    "else:\n",
    "    if (temp >= 65):\n",
    "        print(\"I will go outside\")\n",
    "    else:\n",
    "        print(\"it is too cold outside\")"
   ]
  },
  {
   "cell_type": "code",
   "execution_count": 8,
   "metadata": {},
   "outputs": [
    {
     "name": "stdout",
     "output_type": "stream",
     "text": [
      "it is too hot outside\n"
     ]
    }
   ],
   "source": [
    "temp = 95\n",
    "if (temp >= 90):\n",
    "    print(\"it is too hot outside\")\n",
    "elif (temp >= 65):\n",
    "    print(\"i will go outside\")\n",
    "else:\n",
    "    print(\"it is too cold outside\")"
   ]
  },
  {
   "cell_type": "markdown",
   "metadata": {},
   "source": [
    "### explaining code 2\n",
    "- This segement of code checks weather the temprature is too high or low and outputs based on this that it is hot outside or cold outside.\n",
    "- the seconf peice of code segemt outputs \"I will fo outside if temprature is greater equal than 65\"\n",
    "- Did the task "
   ]
  },
  {
   "cell_type": "code",
   "execution_count": 9,
   "metadata": {},
   "outputs": [
    {
     "name": "stdout",
     "output_type": "stream",
     "text": [
      "25\n"
     ]
    }
   ],
   "source": [
    "sum = 0\n",
    "counter = 1\n",
    "for i in range (0, 10):\n",
    "    if i % 2 != 0:\n",
    "        sum = sum + i\n",
    "print(sum)"
   ]
  },
  {
   "cell_type": "markdown",
   "metadata": {},
   "source": [
    "## Homework - \n",
    "Given a specific integer N, return the square root of N (R) if N is a perfect square, otherwise, return the square root of N rounded down to the nearest integer\n",
    "\n",
    "Input: N (Integer)\n",
    "\n",
    "Output: R (Integer)\n",
    "\n",
    "Constraints: Do not use any built-in math operations such as sqrt(x), Try complete the problem in logarithmic time.\n",
    "\n",
    "## Answer\n",
    "- I have shown two ways of completeing the homework. One (sqrt) in the linear sequencencing with a little bit of binary sequensing\n",
    "- The second (basesqrt) is through binary searching"
   ]
  },
  {
   "cell_type": "code",
   "execution_count": null,
   "metadata": {},
   "outputs": [],
   "source": [
    "def sqrt(inti):\n",
    "    if (inti == 0 or inti == 1):\n",
    "        return inti\n",
    "    \n",
    "    while inti > 1:\n",
    "        for x in range(1, 1000000):\n",
    "            if x*x//2 == inti//2:\n",
    "                inti = inti - inti\n",
    "                return x\n",
    "                \n",
    "            else: \n",
    "                pass\n"
   ]
  },
  {
   "cell_type": "code",
   "execution_count": null,
   "metadata": {},
   "outputs": [
    {
     "name": "stdout",
     "output_type": "stream",
     "text": [
      "10\n"
     ]
    }
   ],
   "source": [
    "def baseSqrt(number):\n",
    "\n",
    "    if (number == 0 or number == 1):\n",
    "        return number\n",
    "\n",
    "    initial = 0\n",
    "    last = number//2\n",
    "    while (initial <= last):\n",
    "        x = (initial + last) // 2\n",
    " \n",
    "        if (x*x == number):\n",
    "            return x\n",
    " \n",
    "        if (x * x > number):\n",
    "            last = x-1\n",
    " \n",
    "        else:\n",
    "            initial = x + 1\n",
    "            ans = x\n",
    " \n",
    "    return ans\n"
   ]
  },
  {
   "cell_type": "code",
   "execution_count": null,
   "metadata": {},
   "outputs": [
    {
     "name": "stdout",
     "output_type": "stream",
     "text": [
      "Check number 1 passed\n",
      "Check number 2 passed\n",
      "Check number 3 passed\n",
      "Check number 4 passed\n",
      "Check number 5 passed\n",
      "Check number 6 passed\n",
      "Check number 7 passed\n",
      "Check number 8 passed\n",
      "Check number 9 passed\n",
      "Check number 10 passed\n",
      "Check number 11 passed\n",
      "Check number 12 passed\n",
      "Check number 13 passed\n"
     ]
    }
   ],
   "source": [
    "from math import sqrt as sq\n",
    "test_cases = [0,1,4,85248289,22297284,18939904,91107025,69122596,9721924,37810201,1893294144,8722812816,644398225]\n",
    "answers = [int(sq(x)) for x in test_cases]\n",
    "\n",
    "def checkValid():\n",
    "    for i in range(len(test_cases)):\n",
    "        if baseSqrt(test_cases[i]) == answers[i]:\n",
    "            print(\"Check number {} passed\".format(i+1))\n",
    "        else:\n",
    "            print(\"Check number {} failed\".format(i+1))\n",
    "\n",
    "checkValid()"
   ]
  },
  {
   "cell_type": "code",
   "execution_count": null,
   "metadata": {},
   "outputs": [
    {
     "name": "stdout",
     "output_type": "stream",
     "text": [
      "Check number 1 passed\n",
      "Check number 2 passed\n",
      "Check number 3 passed\n",
      "Check number 4 passed\n",
      "Check number 5 passed\n",
      "Check number 6 passed\n",
      "Check number 7 passed\n",
      "Check number 8 passed\n",
      "Check number 9 passed\n",
      "Check number 10 passed\n",
      "Check number 11 passed\n",
      "Check number 12 passed\n",
      "Check number 13 passed\n"
     ]
    }
   ],
   "source": [
    "from math import sqrt as sq\n",
    "test_cases = [0,1,4,85248289,22297284,18939904,91107025,69122596,9721924,37810201,1893294144,8722812816,644398225]\n",
    "answers = [int(sq(x)) for x in test_cases]\n",
    "\n",
    "def checkValid():\n",
    "    for i in range(len(test_cases)):\n",
    "        if sqrt(test_cases[i]) == answers[i]:\n",
    "            print(\"Check number {} passed\".format(i+1))\n",
    "        else:\n",
    "            print(\"Check number {} failed\".format(i+1))\n",
    "\n",
    "checkValid()"
   ]
  },
  {
   "cell_type": "markdown",
   "metadata": {},
   "source": [
    "## Challenge\n",
    "Using JavaScript, create an algorithm that takes in an IP address and a subnet mask and computes the network address.\n",
    "steps - convert ip and subnet to binary, add them and convert the sum to numner to get the network address. "
   ]
  },
  {
   "cell_type": "markdown",
   "metadata": {},
   "source": [
    "## challenge Answer\n",
    "- I got the converaion of subnet and IP address down but am unable to perform ADDing due to the time\n",
    "- It is not completely finished byt I think and if, ifelse and else loop can get the job done for adding the values "
   ]
  },
  {
   "cell_type": "code",
   "execution_count": 1,
   "metadata": {},
   "outputs": [
    {
     "name": "stdout",
     "output_type": "stream",
     "text": [
      "[ 11000000, 10101000, 0, 1 ]\n",
      "[ 11111111, 11111111, 11111111, 0 ]\n",
      "undefined\n"
     ]
    }
   ],
   "source": [
    "function converter(x, subnet){\n",
    "    var y = x.split(\".\")\n",
    "    var new_list = [];\n",
    "    var new_list2 = [];\n",
    "    length = y.length;\n",
    "    for (var i = 0; i < length; i++)\n",
    "        new_list.push((parseInt(y[i])).toString(2));\n",
    "        for (var o = 0; o < length; o++)\n",
    "            new_list2.push(parseInt(new_list[o]))\n",
    "    \n",
    "    var subnet_list = subnet.split(\".\")\n",
    "    var new_list3 = [];\n",
    "    var new_list4 = [];\n",
    "    length2 = subnet_list.length;\n",
    "    for (var k = 0; k < length; k++)\n",
    "        new_list3.push((parseInt(subnet_list[k])).toString(2));\n",
    "        for (var p = 0; p < length; p++)\n",
    "            new_list4.push(parseInt(new_list3[p]))\n",
    "\n",
    "    // Print the array of numbers\n",
    "    console.log(new_list2)\n",
    "    console.log(new_list4)\n",
    "}\n",
    "\n",
    "console.log(converter(\"192.168.0.1\", \"255.255.255.0\"))\n"
   ]
  },
  {
   "cell_type": "markdown",
   "metadata": {},
   "source": [
    "## Homework 2\n",
    "Create an algorithm that will start with any positive integer n and display the full sequence of numbers that result from the Collatz Conjecture. The COllatz Conjecture is as follows:\n",
    "\n",
    "start with any positive integer\n",
    "if the number is even, divide by 2\n",
    "if the number is odd, multiply by 3 and add 1\n",
    "repeat steps 2 and 3 until you reach 1\n",
    "Example: if the starting number was 6, the output would be 6, 3, 10, 5, 16, 8, 4, 2, 1"
   ]
  },
  {
   "cell_type": "markdown",
   "metadata": {},
   "source": [
    "## Homework 2 Answer\n",
    "- Here I finished the homework by looking at the final code at a few test cases. the test cases are seperated by a number of \"=\" signs."
   ]
  },
  {
   "cell_type": "code",
   "execution_count": 18,
   "metadata": {},
   "outputs": [
    {
     "name": "stdout",
     "output_type": "stream",
     "text": [
      "==========\n",
      "5.0\n",
      "16.0\n",
      "8.0\n",
      "4.0\n",
      "2.0\n",
      "1.0\n",
      "None\n",
      "==========\n",
      "3.0\n",
      "10.0\n",
      "5.0\n",
      "16.0\n",
      "8.0\n",
      "4.0\n",
      "2.0\n",
      "1.0\n",
      "None\n",
      "==========\n",
      "34\n",
      "17.0\n",
      "52.0\n",
      "26.0\n",
      "13.0\n",
      "40.0\n",
      "20.0\n",
      "10.0\n",
      "5.0\n",
      "16.0\n",
      "8.0\n",
      "4.0\n",
      "2.0\n",
      "1.0\n",
      "None\n",
      "==========\n",
      "46\n",
      "23.0\n",
      "70.0\n",
      "35.0\n",
      "106.0\n",
      "53.0\n",
      "160.0\n",
      "80.0\n",
      "40.0\n",
      "20.0\n",
      "10.0\n",
      "5.0\n",
      "16.0\n",
      "8.0\n",
      "4.0\n",
      "2.0\n",
      "1.0\n",
      "None\n",
      "==========\n",
      "52\n",
      "26.0\n",
      "13.0\n",
      "40.0\n",
      "20.0\n",
      "10.0\n",
      "5.0\n",
      "16.0\n",
      "8.0\n",
      "4.0\n",
      "2.0\n",
      "1.0\n",
      "None\n"
     ]
    }
   ],
   "source": [
    "def collatz(positiveint):\n",
    "    while positiveint > 1:\n",
    "        if positiveint % 2 == 0:\n",
    "            positiveint = positiveint / 2\n",
    "            print(positiveint)\n",
    "        else:\n",
    "            positiveint = (positiveint * 3) + 1\n",
    "            print(positiveint)\n",
    "\n",
    "Test_cases = [10, 6, 11, 15, 17]\n",
    "for i in Test_cases:\n",
    "    print(\"=\"*10)\n",
    "    print(collatz(i))\n"
   ]
  }
 ],
 "metadata": {
  "kernelspec": {
   "display_name": "JavaScript (Node.js)",
   "language": "javascript",
   "name": "javascript"
  },
  "language_info": {
   "file_extension": ".js",
   "mimetype": "application/javascript",
   "name": "javascript",
   "version": "6.11.2"
  },
  "orig_nbformat": 4,
  "vscode": {
   "interpreter": {
    "hash": "ffda36da5e336773557fa7c30d144cf9d160c713e7c8b02e8b2fa513010a8eb7"
   }
  }
 },
 "nbformat": 4,
 "nbformat_minor": 2
}
