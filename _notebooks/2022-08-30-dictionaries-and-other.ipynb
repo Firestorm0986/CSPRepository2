{
 "cells": [
  {
   "cell_type": "markdown",
   "metadata": {},
   "source": [
    "# A Post With Dictionaries And Other\n",
    "> Python Post \n",
    "\n",
    "- toc: true\n",
    "- layout: post\n",
    "- description: Post with Hacks for lists and dictionaries\n",
    "- categories: [Python, week-2]\n",
    "- title: Dictionary And List\n",
    "- author: Aditya Ajay Nawandhar\n",
    "- show_tags: true\n",
    "- comments: true\n",
    "- image: images/postimage8.png"
   ]
  },
  {
   "cell_type": "markdown",
   "metadata": {},
   "source": [
    "---\n",
    "\n",
    "## Adding records to the InfoDb"
   ]
  },
  {
   "cell_type": "code",
   "execution_count": 3,
   "metadata": {},
   "outputs": [
    {
     "name": "stdout",
     "output_type": "stream",
     "text": [
      "[{'FirstName': 'John', 'LastName': 'Mortensen', 'DOB': 'October 21', 'Residence': 'San Diego', 'Email': 'jmortensen@powayusd.com', 'Owns_Cars': ['2015-Fusion', '2011-Ranger', '2003-Excursion', '1997-F350', '1969-Cadillac']}, {'FirstName': 'Sunny', 'LastName': 'Naidu', 'DOB': 'August 2', 'Residence': 'Temecula', 'Email': 'snaidu@powayusd.com', 'Owns_Cars': ['4Runner']}, {'FirstName': 'Aditya', 'LastName': 'Nawandhar', 'DOB': 'November 20', 'Residence': '4S Ranch', 'Email': 'youdontgetitgmail.com', 'Owns_Cars': ['None']}]\n"
     ]
    }
   ],
   "source": [
    "# Define an empty List called InfoDb\n",
    "InfoDb = []\n",
    "\n",
    "# Append to List a Dictionary of key/values related to a person and cars\n",
    "InfoDb.append({\n",
    "    \"FirstName\": \"John\",\n",
    "    \"LastName\": \"Mortensen\",\n",
    "    \"DOB\": \"October 21\",\n",
    "    \"Residence\": \"San Diego\",\n",
    "    \"Email\": \"jmortensen@powayusd.com\",\n",
    "    \"Owns_Cars\": [\"2015-Fusion\", \"2011-Ranger\", \"2003-Excursion\", \"1997-F350\", \"1969-Cadillac\"]\n",
    "})\n",
    "\n",
    "# Append to List a 2nd Dictionary of key/values\n",
    "InfoDb.append({\n",
    "    \"FirstName\": \"Sunny\",\n",
    "    \"LastName\": \"Naidu\",\n",
    "    \"DOB\": \"August 2\",\n",
    "    \"Residence\": \"Temecula\",\n",
    "    \"Email\": \"snaidu@powayusd.com\",\n",
    "    \"Owns_Cars\": [\"4Runner\"]\n",
    "})\n",
    "\n",
    "InfoDb.append({\n",
    "    \"FirstName\": \"Aditya\",\n",
    "    \"LastName\": \"Nawandhar\",\n",
    "    \"DOB\": \"November 20\",\n",
    "    \"Residence\": \"4S Ranch\",\n",
    "    \"Email\": \"youdontgetitgmail.com\",\n",
    "    \"Owns_Cars\": [\"None\"]})\n",
    "\n",
    "# Print the data structure\n",
    "print(InfoDb)"
   ]
  },
  {
   "cell_type": "markdown",
   "metadata": {},
   "source": [
    "---\n",
    "\n",
    "## Outputting data in reverse order"
   ]
  },
  {
   "cell_type": "code",
   "execution_count": 1,
   "metadata": {},
   "outputs": [
    {
     "name": "stdout",
     "output_type": "stream",
     "text": [
      "ih\n",
      "hi\n",
      "The provided word is not a palindrome\n"
     ]
    }
   ],
   "source": [
    "def is_palindrome(prompt):\n",
    "    print(prompt[::-1])\n",
    "    print(prompt)\n",
    "    return prompt[::-1] == prompt\n",
    "\n",
    "word = input(\"Enter a word: \")\n",
    "if is_palindrome(word.casefold()) is True:\n",
    "    print(\"{0} is a palindrome!!\".format(word))\n",
    "else:\n",
    "    print(\"The provided word is not a palindrome\")"
   ]
  },
  {
   "cell_type": "markdown",
   "metadata": {},
   "source": [
    "---\n",
    "\n",
    "## Quiz That Stores in a List of Dictionaries"
   ]
  },
  {
   "cell_type": "code",
   "execution_count": 8,
   "metadata": {},
   "outputs": [
    {
     "name": "stdout",
     "output_type": "stream",
     "text": [
      "Question: What command is used to include other functions that were previously developed?\n",
      "Your answer was wrong\n",
      "Question: What command is used to evaluate correct or incorrect response in this example?\n",
      "You got it right!!\n",
      "Question: Each 'if' command contains an '_________' to determine a true or false condition?\n",
      "Your answer was wrong\n",
      "Question: Variables for the values the function needs. Is passed as an argument when the function is called\n",
      "Your answer was wrong\n",
      "1/1\n"
     ]
    }
   ],
   "source": [
    "def question_with_response(prompt):\n",
    "    print(\"Question: \" + prompt) \n",
    "\n",
    "\n",
    "\n",
    "word = \" \"\n",
    "questions = 4 # number of questions\n",
    "correct = 0\n",
    "\n",
    "\n",
    "questions_answers = [{\"What command is used to include other functions that were previously developed?\" : \"import\", \n",
    "                     \"What command is used to evaluate correct or incorrect response in this example?\" : \"if\", \n",
    "                     \"Each 'if' command contains an '_________' to determine a true or false condition?\" : \"expression\",\n",
    "                     \"Variables for the values the function needs. Is passed as an argument when the function is called\" : \"parameters\"}] # dictionary\n",
    "# questions_answers.append = ({\"What command is used to include other functions that were previously developed?\" : \"import\", \n",
    "#                      \"What command is used to evaluate correct or incorrect response in this example?\" : \"if\", \n",
    "#                      \"Each 'if' command contains an '_________' to determine a true or false condition?\" : \"expression\",\n",
    "#                      \"Variables for the values the function needs. Is passed as an argument when the function is called\" : \"parameters\"}) # dictionary\n",
    "\n",
    "for i in questions_answers:\n",
    "    for question, answer in i.items():\n",
    "        question_with_response(question) # printing the questions\n",
    "        word = input(\"Answer: \") # variable that connects to the user's input\n",
    "        if word == answer:  # if the answer provided is correct\n",
    "            print(\"You got it right!!\")\n",
    "            correct += 1\n",
    "        else:  # if the answer provided is wrong\n",
    "            print(\"Your answer was wrong\")\n",
    "\n",
    "print(str(correct) + \"/\" + str(questions)) # correct/len(questions_answers)"
   ]
  },
  {
   "cell_type": "markdown",
   "metadata": {},
   "source": [
    "---\n",
    "\n",
    "## Using For Loop With An Index"
   ]
  },
  {
   "cell_type": "code",
   "execution_count": 2,
   "metadata": {},
   "outputs": [
    {
     "name": "stdout",
     "output_type": "stream",
     "text": [
      "\n",
      "\n",
      "list:  ['9', '9', '7', '6', '7', '8']\n",
      "9 All those numbers are fine\n",
      "9 All those numbers are fine\n",
      "7 All those numbers are fine\n",
      "6 All those numbers are fine\n",
      "7 All those numbers are fine\n",
      "8 numbers are unacceptable\n"
     ]
    }
   ],
   "source": [
    "numbers = input('Enter elements of a list separated by space ')\n",
    "print(\"\\n\")\n",
    "user_list = numbers.split()\n",
    "# print list\n",
    "print('list: ', user_list)\n",
    "\n",
    "# for number in numbers:\n",
    "for i in range(len(user_list)):\n",
    "    user_list[i] = int(user_list[i])\n",
    "for number in user_list:\n",
    "    if number % 8 == 0:\n",
    "        print(\"{0} numbers are unacceptable\".format(number))\n",
    "        break\n",
    "    else:\n",
    "        print(\"{0} All those numbers are fine\".format(number))"
   ]
  },
  {
   "cell_type": "markdown",
   "metadata": {},
   "source": [
    "---\n",
    "\n",
    "## Other Methods On List"
   ]
  },
  {
   "cell_type": "code",
   "execution_count": 1,
   "metadata": {},
   "outputs": [
    {
     "name": "stdout",
     "output_type": "stream",
     "text": [
      "milk\n",
      "Water\n",
      "Apples\n",
      "popcorn\n",
      "pasta\n",
      "juice\n",
      "chocolates\n",
      "pencils\n",
      "banana\n",
      "ice cream\n"
     ]
    }
   ],
   "source": [
    "Shopping_List1 = [\"milk\", \"Water\", \"Apples\", \"popcorn\", \"pasta\"]\n",
    "Shopping_List2 = [\"juice\", \"chocolates\", \"pencils\", \"banana\", \"ice cream\"]\n",
    "\n",
    "for x in Shopping_List2:\n",
    "    Shopping_List1.append(x)\n",
    "\n",
    "i = 0\n",
    "while i < len(Shopping_List1):\n",
    "  print(Shopping_List1[i])\n",
    "  i = i + 1\n",
    "     "
   ]
  },
  {
   "cell_type": "markdown",
   "metadata": {},
   "source": [
    "---\n",
    "\n",
    "## New Dictionary Data Set"
   ]
  },
  {
   "cell_type": "code",
   "execution_count": 2,
   "metadata": {},
   "outputs": [
    {
     "name": "stdout",
     "output_type": "stream",
     "text": [
      "{'Pikachu': 'Electric-type', 'Charizard': 'Fire-type', 'Blastoise': 'Water-type', 'Venusaur': 'Grass-type', 'Snorlax': 'Normal-type', 'Garchomp': 'Dragon-type', 'Lucario': 'Fighting-type', 'Darkrai': 'Dark-type', 'Arceus': 'Normal-type', 'Balbasaur': 'grass-type'}\n",
      "{'Pikachu': 'Electric-type', 'Charizard': 'Fire-type', 'Blastoise': 'Water-type', 'Venusaur': 'Grass-type', 'Snorlax': 'Normal-type', 'Garchomp': 'Dragon-type', 'Lucario': 'Fighting-type', 'Darkrai': 'Dark-type', 'Arceus': 'Normal-type', 'Balbasaur': 'grass-type', 'Reshiram': 'Dragon-type'}\n",
      "{'Pikachu': 'Electric-type', 'Charizard': 'Fire-type', 'Blastoise': 'Water-type', 'Venusaur': 'Grass-type', 'Snorlax': 'Normal-type', 'Garchomp': 'Dragon-type', 'Lucario': 'Fighting-type', 'Darkrai': 'Dark-type', 'Arceus': 'Normal-type', 'Balbasaur': 'grass-type', 'Reshiram': 'Dragon-type', 'Articuno': 'water-type'}\n"
     ]
    }
   ],
   "source": [
    "My_Dict = {\n",
    "    \"Pikachu\": \"Electric-type\",\n",
    "    \"Charizard\": \"Fire-type\",\n",
    "    \"Blastoise\": \"Water-type\",\n",
    "    \"Venusaur\": \"Grass-type\",\n",
    "    \"Snorlax\": \"Normal-type\",\n",
    "    \"Garchomp\": \"Dragon-type\",\n",
    "    \"Lucario\": \"Fighting-type\",\n",
    "    \"Darkrai\": \"Dark-type\",\n",
    "    \"Arceus\": \"Normal-type\",\n",
    "    \"Balbasaur\": input(\"What type is it? \")\n",
    "} # defined a new dictionary\n",
    "print(My_Dict)\n",
    "My_Dict[\"Reshiram\"] = \"Dragon-type\" #Added new key and value into dictionary\n",
    "print(My_Dict)\n",
    "My_Dict[\"Articuno\"] = input(\"What type is it? \") # Added new value with input\n",
    "print(My_Dict)"
   ]
  },
  {
   "cell_type": "markdown",
   "metadata": {},
   "source": [
    "---\n",
    "\n",
    "## Reccurtion\n",
    "\"factoral()\" is a recursive function as it calls itself. "
   ]
  },
  {
   "cell_type": "code",
   "execution_count": 4,
   "metadata": {},
   "outputs": [
    {
     "name": "stdout",
     "output_type": "stream",
     "text": [
      "The factorial of 3 is 6\n"
     ]
    }
   ],
   "source": [
    "def factorial(x): # Reccursive function\n",
    "    \"\"\"This is a recursive function\n",
    "    to find the factorial of an integer\"\"\"\n",
    "\n",
    "    if x == 1:\n",
    "        return 1\n",
    "    else:\n",
    "        return (x * factorial(x-1))\n",
    "\n",
    "\n",
    "num = 3\n",
    "print(\"The factorial of\", num, \"is\", factorial(num))"
   ]
  }
 ],
 "metadata": {
  "kernelspec": {
   "display_name": "Python 3.8.10 64-bit",
   "language": "python",
   "name": "python3"
  },
  "language_info": {
   "codemirror_mode": {
    "name": "ipython",
    "version": 3
   },
   "file_extension": ".py",
   "mimetype": "text/x-python",
   "name": "python",
   "nbconvert_exporter": "python",
   "pygments_lexer": "ipython3",
   "version": "3.8.10"
  },
  "orig_nbformat": 4,
  "vscode": {
   "interpreter": {
    "hash": "916dbcbb3f70747c44a77c7bcd40155683ae19c65e1c03b4aa3499c5328201f1"
   }
  }
 },
 "nbformat": 4,
 "nbformat_minor": 2
}
