{
 "cells": [
  {
   "cell_type": "markdown",
   "metadata": {},
   "source": [
    "# A Post With Dictionaries And Other\n",
    "> Python Post \n",
    "\n",
    "- toc: true\n",
    "- layout: post\n",
    "- description: Post with Hacks for lists and dictionaries\n",
    "- categories: [jupyter]\n",
    "- title: Dictionary And List\n",
    "- author: Aditya Ajay Nawandhar\n",
    "- show_tags: true\n",
    "- comments: true\n",
    "- image: images/postimage6.png"
   ]
  },
  {
   "cell_type": "markdown",
   "metadata": {},
   "source": [
    "---\n",
    "\n",
    "## Adding records to the InfoDb"
   ]
  },
  {
   "cell_type": "code",
   "execution_count": 3,
   "metadata": {},
   "outputs": [
    {
     "name": "stdout",
     "output_type": "stream",
     "text": [
      "[{'FirstName': 'John', 'LastName': 'Mortensen', 'DOB': 'October 21', 'Residence': 'San Diego', 'Email': 'jmortensen@powayusd.com', 'Owns_Cars': ['2015-Fusion', '2011-Ranger', '2003-Excursion', '1997-F350', '1969-Cadillac']}, {'FirstName': 'Sunny', 'LastName': 'Naidu', 'DOB': 'August 2', 'Residence': 'Temecula', 'Email': 'snaidu@powayusd.com', 'Owns_Cars': ['4Runner']}, {'FirstName': 'Aditya', 'LastName': 'Nawandhar', 'DOB': 'November 20', 'Residence': '4S Ranch', 'Email': 'youdontgetitgmail.com', 'Owns_Cars': ['None']}]\n"
     ]
    }
   ],
   "source": [
    "# Define an empty List called InfoDb\n",
    "InfoDb = []\n",
    "\n",
    "# Append to List a Dictionary of key/values related to a person and cars\n",
    "InfoDb.append({\n",
    "    \"FirstName\": \"John\",\n",
    "    \"LastName\": \"Mortensen\",\n",
    "    \"DOB\": \"October 21\",\n",
    "    \"Residence\": \"San Diego\",\n",
    "    \"Email\": \"jmortensen@powayusd.com\",\n",
    "    \"Owns_Cars\": [\"2015-Fusion\", \"2011-Ranger\", \"2003-Excursion\", \"1997-F350\", \"1969-Cadillac\"]\n",
    "})\n",
    "\n",
    "# Append to List a 2nd Dictionary of key/values\n",
    "InfoDb.append({\n",
    "    \"FirstName\": \"Sunny\",\n",
    "    \"LastName\": \"Naidu\",\n",
    "    \"DOB\": \"August 2\",\n",
    "    \"Residence\": \"Temecula\",\n",
    "    \"Email\": \"snaidu@powayusd.com\",\n",
    "    \"Owns_Cars\": [\"4Runner\"]\n",
    "})\n",
    "\n",
    "InfoDb.append({\n",
    "    \"FirstName\": \"Aditya\",\n",
    "    \"LastName\": \"Nawandhar\",\n",
    "    \"DOB\": \"November 20\",\n",
    "    \"Residence\": \"4S Ranch\",\n",
    "    \"Email\": \"youdontgetitgmail.com\",\n",
    "    \"Owns_Cars\": [\"None\"]})\n",
    "\n",
    "# Print the data structure\n",
    "print(InfoDb)"
   ]
  },
  {
   "cell_type": "markdown",
   "metadata": {},
   "source": [
    "---\n",
    "\n",
    "## Outputting data in reverse order"
   ]
  },
  {
   "cell_type": "code",
   "execution_count": 1,
   "metadata": {},
   "outputs": [
    {
     "name": "stdout",
     "output_type": "stream",
     "text": [
      "ih\n",
      "hi\n",
      "The provided word is not a palindrome\n"
     ]
    }
   ],
   "source": [
    "def is_palindrome(prompt):\n",
    "    print(prompt[::-1])\n",
    "    print(prompt)\n",
    "    return prompt[::-1] == prompt\n",
    "\n",
    "word = input(\"Enter a word: \")\n",
    "if is_palindrome(word.casefold()) is True:\n",
    "    print(\"{0} is a palindrome!!\".format(word))\n",
    "else:\n",
    "    print(\"The provided word is not a palindrome\")"
   ]
  },
  {
   "cell_type": "markdown",
   "metadata": {},
   "source": [
    "---\n",
    "\n",
    "## Quiz That Stores in a List of Dictionaries"
   ]
  },
  {
   "cell_type": "code",
   "execution_count": null,
   "metadata": {},
   "outputs": [],
   "source": [
    "def question_with_response(prompt):\n",
    "    print(\"Question: \" + prompt) \n",
    "\n",
    "\n",
    "\n",
    "word = \" \"\n",
    "questions = 3 # number of questions\n",
    "correct = 0\n",
    "\n",
    "questions_answers = {\"What command is used to include other functions that were previously developed?\" : \"import\", \n",
    "                     \"What command is used to evaluate correct or incorrect response in this example?\" : \"if\", \n",
    "                     \"Each 'if' command contains an '_________' to determine a true or false condition?\" : \"expression\",\n",
    "                     \"Variables for the values the function needs. Is passed as an argument when the function is called\" : \"parameters\"} # dictionary\n",
    "\n",
    "for question, answer in questions_answers.items():\n",
    "    question_with_response(question) # printing the questions\n",
    "    word = input(\"Answer: \") # variable that connects to the user's input\n",
    "    if word == answer:  # if the answer provided is correct\n",
    "        print(\"You got it right!!\")\n",
    "        correct += 1\n",
    "    else:  # if the answer provided is wrong\n",
    "        print(\"Your answer was wrong\")\n",
    "\n",
    "print(str(correct) + \"/\" + str(len(questions_answers))) # correct/len(questions_answers)"
   ]
  },
  {
   "cell_type": "markdown",
   "metadata": {},
   "source": [
    "---\n",
    "\n",
    "## Using For Loop With An Index"
   ]
  },
  {
   "cell_type": "code",
   "execution_count": 2,
   "metadata": {},
   "outputs": [
    {
     "name": "stdout",
     "output_type": "stream",
     "text": [
      "\n",
      "\n",
      "list:  ['9', '9', '7', '6', '7', '8']\n",
      "9 All those numbers are fine\n",
      "9 All those numbers are fine\n",
      "7 All those numbers are fine\n",
      "6 All those numbers are fine\n",
      "7 All those numbers are fine\n",
      "8 numbers are unacceptable\n"
     ]
    }
   ],
   "source": [
    "numbers = input('Enter elements of a list separated by space ')\n",
    "print(\"\\n\")\n",
    "user_list = numbers.split()\n",
    "# print list\n",
    "print('list: ', user_list)\n",
    "\n",
    "# for number in numbers:\n",
    "for i in range(len(user_list)):\n",
    "    user_list[i] = int(user_list[i])\n",
    "for number in user_list:\n",
    "    if number % 8 == 0:\n",
    "        print(\"{0} numbers are unacceptable\".format(number))\n",
    "        break\n",
    "    else:\n",
    "        print(\"{0} All those numbers are fine\".format(number))"
   ]
  },
  {
   "cell_type": "markdown",
   "metadata": {},
   "source": [
    "---\n",
    "\n",
    "## Other Methods On List"
   ]
  },
  {
   "cell_type": "code",
   "execution_count": null,
   "metadata": {},
   "outputs": [],
   "source": []
  }
 ],
 "metadata": {
  "kernelspec": {
   "display_name": "Python 3.8.10 64-bit",
   "language": "python",
   "name": "python3"
  },
  "language_info": {
   "codemirror_mode": {
    "name": "ipython",
    "version": 3
   },
   "file_extension": ".py",
   "mimetype": "text/x-python",
   "name": "python",
   "nbconvert_exporter": "python",
   "pygments_lexer": "ipython3",
   "version": "3.8.10"
  },
  "orig_nbformat": 4,
  "vscode": {
   "interpreter": {
    "hash": "916dbcbb3f70747c44a77c7bcd40155683ae19c65e1c03b4aa3499c5328201f1"
   }
  }
 },
 "nbformat": 4,
 "nbformat_minor": 2
}
