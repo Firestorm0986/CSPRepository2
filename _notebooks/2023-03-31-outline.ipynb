{
 "cells": [
  {
   "attachments": {},
   "cell_type": "markdown",
   "metadata": {},
   "source": [
    "# additional vocab and notes\n",
    "\n",
    "- toc: true\n",
    "- layout: post\n",
    "- description: outline for Tri - 3 presentation\n",
    "- categories: [week-15]\n",
    "- title: Tri-3 outline\n",
    "- author: Aditya Ajay Nawandhar\n",
    "- show_tags: true\n",
    "- comments: true\n",
    "- image: images/postimage11.png"
   ]
  },
  {
   "attachments": {},
   "cell_type": "markdown",
   "metadata": {},
   "source": [
    "## Intro\n",
    "- Talk about what SQlite is -- and difference between different SQL types like MYSQL. \n",
    "- What RDS is and what services it provides\n",
    "- how does connecting local database with RDS helps and why it is effective and needed."
   ]
  },
  {
   "attachments": {},
   "cell_type": "markdown",
   "metadata": {},
   "source": [
    "## Talk 1\n",
    "- How to make an RDS instance\n",
    "> - Quick walk through\n",
    "> - explanation of what each segment does like for example why we choose this out of all the options \n",
    "![image](https://user-images.githubusercontent.com/108041389/229415825-3ab7a069-9624-46f9-b6b5-74be0e1c67fb.png)\n"
   ]
  },
  {
   "attachments": {},
   "cell_type": "markdown",
   "metadata": {},
   "source": [
    "## Talk 2\n",
    "- Changes to be made in the flask site or the backend site\n",
    "> - Init.py changes -- why it is needed\n",
    "> - Where the necessary values like port and host can be found\n",
    "> - Why we do not need chang anything else\n",
    "- Connecting EC2 to the database\n",
    "> - everyone will not do this as one instance can have only one database attached, this will be shown just for their knowledge\n",
    "- using RDS and SQL commands in EC2 terminal and working with the data to show how RDS makes working with databases more effective."
   ]
  }
 ],
 "metadata": {
  "language_info": {
   "name": "python"
  },
  "orig_nbformat": 4
 },
 "nbformat": 4,
 "nbformat_minor": 2
}
