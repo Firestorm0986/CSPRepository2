{
 "cells": [
  {
   "cell_type": "markdown",
   "metadata": {},
   "source": [
    "# Python Post\n",
    "> Python Post \n",
    "\n",
    "- toc: true\n",
    "- layout: post\n",
    "- description: Pythong Quiz in 3 diffrent ways\n",
    "- categories: [Python]\n",
    "- title: Python Quiz\n",
    "- author: Aditya Ajay Nawandhar\n",
    "- show_tags: true\n",
    "- comments: true\n",
    "- image: images/postimage6.png"
   ]
  },
  {
   "cell_type": "markdown",
   "metadata": {},
   "source": [
    "## Pthon Quiz metod - 1\n",
    "copied from the APCSP repository\n",
    "\n",
    "This example defines a new function \"question_with_response\", this function returns a value input by the user. This allows programmer to evaluate the response. The purpose of obtaining the return value is to evaluate if correct response was given to the question.\n",
    "\n",
    "- response from \"question_with_response\" is captured in a variable called \"rsp\"\n",
    "    - return command in function returns msg input by user\n",
    "    - assignment to \"rsp\" is allowed a function is returning a value, names do not need to match (but could)\n",
    "- if command is next command in sequence after \"rsp\" assignment\n",
    "    - this command contains an expression, rsp == \"import\" which compare what is typed to the string literal answer\n",
    "    - an if expression is evaluated for true or false\n",
    "    - true takes branch of code directly under if\n",
    "    - false takes branch of code directly under else command\n",
    "\n",
    "The grand finale of this example is calculating the right/total.\n",
    "- question = 3 is defined as number of questions\n",
    "- correct = 0 is defined as running score\n",
    "- correct += 1 is the way to add one to the score, this code is placed in sequence under correct expression evaluation\n",
    "- since question and correct are numbers, versus strings, to place them in concatenation in print statements you must inclose them in Python function str() which turns number into string.\n",
    "- final print statement is concatenated and formatted to give user and right over wrong"
   ]
  },
  {
   "cell_type": "code",
   "execution_count": 38,
   "metadata": {},
   "outputs": [
    {
     "name": "stdout",
     "output_type": "stream",
     "text": [
      "Hello, adityanav running /bin/python3\n",
      "You will be asked 3 questions.\n",
      "Question: Are you ready to take a test?\n",
      "Answer: yes\n",
      "Question: What command is used to include other functions that were previously developed?\n",
      "import is correct!\n",
      "Question: What command is used to evaluate correct or incorrect response in this example?\n",
      "if is correct!\n",
      "Question: Each 'if' command contains an '_________' to determine a true or false condition?\n",
      "expression is correct!\n",
      "adityanav you scored 3/3\n"
     ]
    }
   ],
   "source": [
    "import getpass, sys\n",
    "\n",
    "\n",
    "def question_and_answer(prompt):\n",
    "    print(\"Question: \" + prompt)\n",
    "    msg = input()\n",
    "    print(\"Answer: \" + msg)\n",
    "\n",
    "\n",
    "def question_with_response(prompt):\n",
    "    print(\"Question: \" + prompt)\n",
    "    msg = input()\n",
    "    return msg\n",
    "\n",
    "questions = 3\n",
    "correct = 0\n",
    "\n",
    "print('Hello, ' + getpass.getuser() + \" running \" + sys.executable)\n",
    "print(\"You will be asked \" + str(questions) + \" questions.\")\n",
    "question_and_answer(\"Are you ready to take a test?\")\n",
    "\n",
    "rsp = question_with_response(\"What command is used to include other functions that were previously developed?\")\n",
    "if rsp == \"import\":\n",
    "    print(rsp + \" is correct!\")\n",
    "    correct += 1\n",
    "else:\n",
    "    print(rsp + \" is incorrect!\")\n",
    "\n",
    "rsp = question_with_response(\"What command is used to evaluate correct or incorrect response in this example?\")\n",
    "if rsp == \"if\":\n",
    "    print(rsp + \" is correct!\")\n",
    "    correct += 1\n",
    "else:\n",
    "    print(rsp + \" is incorrect!\")\n",
    "\n",
    "rsp = question_with_response(\"Each 'if' command contains an '_________' to determine a true or false condition?\")\n",
    "if rsp == \"expression\":\n",
    "    print(rsp + \" is correct!\")\n",
    "    correct += 1\n",
    "else:\n",
    "    print(rsp + \" is incorrect!\")\n",
    "\n",
    "print(getpass.getuser() + \" you scored \" + str(correct) +\"/\" + str(questions))"
   ]
  },
  {
   "cell_type": "markdown",
   "metadata": {},
   "source": [
    "## Python Quiz Method - 2\n",
    "In this example a new function is defined \"quiz\" and then after the parameters of the function are defined. Lastly the code prints the score from the quiz.\n",
    "- The parameters of the function are \"que\" and \"ans\". \n",
    "- The function first prints the ques which is defined in code after the function definition. \n",
    "- Then the variable \"correct\" is modified to be used outside of the current scope, whit this we can make changes to variable and print the variable in local context.\n",
    "- the variable \"input_ans\" is attached to the user input for the aswers for the questions.\n",
    "- \"if\" and \"else\" statems follow, the if statement prints \"You got it right!!\" if you get it right. and the else prints \"Your answer is wrong\" if you answer wrong.  \n",
    "- correct is gven the value 0 becuase score starts from 0 . Correct += 1 is the way to add one to the score, this code is placed in sequence under correct expression evaluation. in this that case after the if statement.\n",
    "- the Function is now defined \n",
    "\n",
    "After the function gets defined\n",
    "- a variable questions is given the value of the number of questions present in the question\n",
    "- After this the function parameters are defined with the questions and answers\n",
    "- Last line of code is to print the score \n",
    "- since question and correct are numbers, versus strings, to place them in concatenation in print statements you must inclose them in Python function str() which turns number into string.\n",
    "- final print statement is concatenated and formatted to give user and right over wrong."
   ]
  },
  {
   "cell_type": "code",
   "execution_count": 1,
   "metadata": {},
   "outputs": [
    {
     "name": "stdout",
     "output_type": "stream",
     "text": [
      "What command is used to include other functions that were previously developed?\n",
      "You got it right!!\n",
      "What command is used to evaluate correct or incorrect response in this example?\n",
      "Your answer was wrong\n",
      "Each 'if' command contains an '_________' to determine a true or false condition?\n",
      "Your answer was wrong\n",
      "Variables for the values the function needs. Is passed as an argument when the function is called\n",
      "Your answer was wrong\n",
      "1\n"
     ]
    }
   ],
   "source": [
    "correct = 0\n",
    "\n",
    "\n",
    "def quiz(ques, ans):\n",
    "    print(ques)\n",
    "    global correct #global keyword allows you to modify the variable outside of the current scope\n",
    "    input_ans = input(\"Answer: \") # user input\n",
    "    if ans == input_ans: # if the answer provided is correct\n",
    "        print(\"You got it right!!\")\n",
    "        correct += 1\n",
    "    else: # if the answer provided is wrong\n",
    "        print(\"Your answer was wrong\")\n",
    "\n",
    "questions = 4 # number of questions\n",
    "\n",
    "quiz(\"What command is used to include other functions that were previously developed?\", \"import\") # defining the quiz function parameters\n",
    "quiz(\"What command is used to evaluate correct or incorrect response in this example?\", \"if\")\n",
    "quiz(\"Each 'if' command contains an '_________' to determine a true or false condition?\", \"expression\")\n",
    "quiz(\"Variables for the values the function needs. Is passed as an argument when the function is called\", \"parameters\")\n",
    "\n",
    "print(correct) # outputing the user's score"
   ]
  },
  {
   "cell_type": "markdown",
   "metadata": {},
   "source": [
    "## Python Quiz Method - 3\n",
    "In this example the function is first defined \n",
    "\n",
    "Then the word variable is given the value of blank or nothing \n",
    "\n",
    "Then the variable questions is given the value of the number of questions. \n",
    "\n",
    "After that Then the variable \"correct\" is modified to be used outside of the current scope, whit this we can make changes to variable and print the variable in local context.correct is gven the value 0 becuase score starts from 0 . Correct += 1 is the way to add one to the score, this code is placed in sequence under correct expression evaluation. in this that case after the if statement.\n",
    "\n",
    "Then the question and their corresponding answers are put in a dictionary. one question and it's answer is one value in the dictionary.\n",
    "\n",
    "After that a for statement is made for the two things in one value in the dictionarie to go through the code blelow until the leght of the dictionary finishes. \n",
    "- the .items commnad itterates over every value in the dictionary\n",
    "- we then use the \"question_with_response\" function to print the questions for the quiz and the parameter of this function is tied to question variable that connects to the dictionary.\n",
    "- \"if\" and \"else\" statems follow, the if statement prints \"You got it right!!\" if you get it right. and the else prints \"Your answer is wrong\" if you answer wrong.\n",
    "\n",
    "The last line of the code is to print the score \n",
    "- since question and correct are numbers, versus strings, to place them in concatenation in print statements you must inclose them in Python function str() which turns number into string.\n",
    "- final print statement is concatenated and formatted to give user and right over wrong."
   ]
  },
  {
   "cell_type": "code",
   "execution_count": 34,
   "metadata": {},
   "outputs": [
    {
     "name": "stdout",
     "output_type": "stream",
     "text": [
      "Question: What command is used to include other functions that were previously developed?\n",
      "You got it right!!\n",
      "Question: What command is used to evaluate correct or incorrect response in this example?\n",
      "Your answer was wrong\n",
      "Question: Each 'if' command contains an '_________' to determine a true or false condition?\n",
      "Your answer was wrong\n",
      "Question: Variables for the values the function needs. Is passed as an argument when the function is called\n",
      "Your answer was wrong\n",
      "1/4\n"
     ]
    }
   ],
   "source": [
    "def question_with_response(prompt):\n",
    "    print(\"Question: \" + prompt) \n",
    "\n",
    "\n",
    "\n",
    "word = \" \"\n",
    "questions = 3 # number of questions\n",
    "correct = 0\n",
    "\n",
    "questions_answers = {\"What command is used to include other functions that were previously developed?\" : \"import\", \n",
    "                     \"What command is used to evaluate correct or incorrect response in this example?\" : \"if\", \n",
    "                     \"Each 'if' command contains an '_________' to determine a true or false condition?\" : \"expression\",\n",
    "                     \"Variables for the values the function needs. Is passed as an argument when the function is called\" : \"parameters\"} # dictionary\n",
    "\n",
    "for question, answer in questions_answers.items():\n",
    "    question_with_response(question) # printing the questions\n",
    "    word = input(\"Answer: \") # variable that connects to the user's input\n",
    "    if word == answer:  # if the answer provided is correct\n",
    "        print(\"You got it right!!\")\n",
    "        correct += 1\n",
    "    else:  # if the answer provided is wrong\n",
    "        print(\"Your answer was wrong\")\n",
    "\n",
    "print(str(correct) + \"/\" + str(len(questions_answers))) # correct/len(questions_answers) "
   ]
  },
  {
   "cell_type": "code",
   "execution_count": 16,
   "metadata": {},
   "outputs": [
    {
     "name": "stdout",
     "output_type": "stream",
     "text": [
      "ih\n",
      "hi\n",
      "The provided word is not a palindrome\n"
     ]
    }
   ],
   "source": [
    "def is_palindrome(prompt):\n",
    "    print(prompt[::-1])\n",
    "    print(prompt)\n",
    "    return prompt[::-1] == prompt\n",
    "\n",
    "word = input(\"Enter a word: \")\n",
    "if is_palindrome(word.casefold()) is True:\n",
    "    print(\"{0} is a palindrome!!\".format(word))\n",
    "else:\n",
    "    print(\"The provided word is not a palindrome\")"
   ]
  },
  {
   "cell_type": "code",
   "execution_count": 20,
   "metadata": {},
   "outputs": [
    {
     "name": "stdout",
     "output_type": "stream",
     "text": [
      "\n",
      "\n",
      "list:  ['9', '9', '9', '8', '7']\n",
      "9 All those numbers are fine\n",
      "9 All those numbers are fine\n",
      "9 All those numbers are fine\n",
      "8 numbers are unacceptable\n"
     ]
    }
   ],
   "source": [
    "numbers = input('Enter elements of a list separated by space ')\n",
    "print(\"\\n\")\n",
    "user_list = numbers.split()\n",
    "# print list\n",
    "print('list: ', user_list)\n",
    "\n",
    "# for number in numbers:\n",
    "for i in range(len(user_list)):\n",
    "    user_list[i] = int(user_list[i])\n",
    "for number in user_list:\n",
    "    if number % 8 == 0:\n",
    "        print(\"{0} numbers are unacceptable\".format(number))\n",
    "        break\n",
    "    else:\n",
    "        print(\"{0} All those numbers are fine\".format(number))"
   ]
  }
 ],
 "metadata": {
  "kernelspec": {
   "display_name": "Python 3.8.10 64-bit",
   "language": "python",
   "name": "python3"
  },
  "language_info": {
   "codemirror_mode": {
    "name": "ipython",
    "version": 3
   },
   "file_extension": ".py",
   "mimetype": "text/x-python",
   "name": "python",
   "nbconvert_exporter": "python",
   "pygments_lexer": "ipython3",
   "version": "3.8.10"
  },
  "orig_nbformat": 4,
  "vscode": {
   "interpreter": {
    "hash": "916dbcbb3f70747c44a77c7bcd40155683ae19c65e1c03b4aa3499c5328201f1"
   }
  }
 },
 "nbformat": 4,
 "nbformat_minor": 2
}
