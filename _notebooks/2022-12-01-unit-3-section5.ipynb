{
 "cells": [
  {
   "cell_type": "markdown",
   "metadata": {},
   "source": [
    "# Section 5-7 Notes\n",
    "> APIs can be found all over the internet.  A great consolidator of many APIs is\n",
    "\n",
    "- toc: true\n",
    "- layout: post\n",
    "- description: Big Idea 3 section 5-7\n",
    "- categories: [week-1]\n",
    "- title: Section 5-7\n",
    "- author: Aditya Ajay Nawandhar\n",
    "- show_tags: true\n",
    "- comments: true\n",
    "- image: images/postimage3.png"
   ]
  },
  {
   "cell_type": "markdown",
   "metadata": {},
   "source": [
    "vocab - \n",
    "- Greater than: >\n",
    "- Less than: <\n",
    "- Greater than or equal to: >=\n",
    "- Less than or equal to: <=\n",
    "- Equal to: ==\n",
    "- Not Equal to: !=\n",
    "- Boolean expression: A logical statement that is either TRUE or FALSE\n",
    "- Conditional: used to handle conditions in your program.\n",
    "- Nested conditional: an if or if else statement inside another if else statement."
   ]
  },
  {
   "cell_type": "markdown",
   "metadata": {},
   "source": [
    "### Boolean \n",
    "Booleans are like binary, having 2 possible values, but in Boolean, True is 1 and False is 0. By using boolean operators, a boolean value can be produced.\n",
    "vocab - \n",
    "- Boolean\n",
    "- Relational Operator\n",
    "- Logical Operator"
   ]
  },
  {
   "cell_type": "code",
   "execution_count": 15,
   "metadata": {},
   "outputs": [
    {
     "name": "stdout",
     "output_type": "stream",
     "text": [
      "True: True\n",
      "True: True\n",
      "False: False\n",
      "True: True\n",
      "False: False\n",
      "True: True\n",
      "\n",
      "True: True\n",
      "False False\n",
      "False: False\n",
      "True: True\n",
      "False: False\n",
      "True: True\n",
      "\n"
     ]
    }
   ],
   "source": [
    "print(\"True:\",4 == 4)\n",
    "print(\"True:\",1 > 0)\n",
    "print(\"False:\",7 < 3)\n",
    "print(\"True:\",5 < 6)\n",
    "print(\"False:\",7 > 8)\n",
    "print(\"True:\",3 == 3)\n",
    "print('')\n",
    "\n",
    "# Same as above, but now for other values other than int\n",
    "print('True:',\"as\"==\"as\")\n",
    "print(\"False\",True == False)\n",
    "print(\"False:\",[2,3,1]>[2,3,1])\n",
    "print(\"True:\",'af'<'bc')\n",
    "print(\"False:\",'ce'>'cf')\n",
    "print(\"True:\",[1,'b']>[1,'a'])\n",
    "print('')"
   ]
  },
  {
   "cell_type": "code",
   "execution_count": 12,
   "metadata": {},
   "outputs": [
    {
     "name": "stdout",
     "output_type": "stream",
     "text": [
      "True: True\n",
      "False: False\n",
      "True: True\n",
      "False: False\n",
      "False: False\n",
      "True: True\n"
     ]
    }
   ],
   "source": [
    "print(\"True:\", True or False)\n",
    "print(\"False:\",  not True)\n",
    "print(\"True:\", True and True)\n",
    "print(\"False:\",  not True)\n",
    "print(\"False:\", True and False)\n",
    "print(\"True:\",  not False)"
   ]
  },
  {
   "cell_type": "markdown",
   "metadata": {},
   "source": [
    "### Nested Conditionals \n",
    "- Nested Conditional Statements consist of conditional statements within conditional statements.\n",
    "- format - \n",
    "IF (condition 1)\n",
    "{\n",
    "    <first block of statements>\n",
    "}\n",
    "ELSE\n",
    "{\n",
    "    IF (condition 2)\n",
    "    {\n",
    "        <second block of statements>\n",
    "    }\n",
    "    ELSE\n",
    "    {\n",
    "        <third block of statements>\n",
    "    }\n",
    "}\n",
    "\n",
    "- examples - \n",
    "age = 19\n",
    "isGraduated = False\n",
    "hasLicense = True\n",
    "if age >= 18:\n",
    "    print(\"You're 18 or older. Welcome to adulthood!\")\n",
    "\n",
    "    if isGraduated:\n",
    "        print('Congratulations with your graduation!')\n",
    "    if hasLicense:\n",
    "        print('Happy driving!')"
   ]
  },
  {
   "cell_type": "markdown",
   "metadata": {},
   "source": [
    "### Conditionals\n",
    "- algorithm - A set of instructions that accomplish a task.\n",
    "- selection - The process that determines which parts of an algoritm is being executed based on a condition that is true or false.\n",
    "\n",
    "- A conditional is a statement that affects the flow/outcome of a program by executing different statements based on the result of a true or false statement. That true or false statement is a boolean expression.\n",
    "\n",
    "- Conditionals appear in almost every programming language because of how important it is for changing the flow of the program.\n",
    "\n",
    "- Conditionals statements are used by the selection process for a program."
   ]
  },
  {
   "cell_type": "markdown",
   "metadata": {},
   "source": [
    "## HomeWork"
   ]
  },
  {
   "cell_type": "code",
   "execution_count": 1,
   "metadata": {},
   "outputs": [
    {
     "name": "stdout",
     "output_type": "stream",
     "text": [
      "binary conversion is:  010001\n",
      "Hexadecial conversion is:  0x2711\n"
     ]
    },
    {
     "ename": "ValueError",
     "evalue": "invalid literal for int() with base 2: ''",
     "output_type": "error",
     "traceback": [
      "\u001b[0;31m---------------------------------------------------------------------------\u001b[0m",
      "\u001b[0;31mValueError\u001b[0m                                Traceback (most recent call last)",
      "\u001b[1;32m/home/aditya_nav/vscode/CSPrepository2/_notebooks/2022-12-01-unit-3-section5.ipynb Cell 9\u001b[0m in \u001b[0;36m<cell line: 21>\u001b[0;34m()\u001b[0m\n\u001b[1;32m     <a href='vscode-notebook-cell://wsl%2Bubuntu/home/aditya_nav/vscode/CSPrepository2/_notebooks/2022-12-01-unit-3-section5.ipynb#X11sdnNjb2RlLXJlbW90ZQ%3D%3D?line=17'>18</a>\u001b[0m     \u001b[39mbreak\u001b[39;00m\n\u001b[1;32m     <a href='vscode-notebook-cell://wsl%2Bubuntu/home/aditya_nav/vscode/CSPrepository2/_notebooks/2022-12-01-unit-3-section5.ipynb#X11sdnNjb2RlLXJlbW90ZQ%3D%3D?line=19'>20</a>\u001b[0m m \u001b[39m=\u001b[39m \u001b[39minput\u001b[39m(\u001b[39m\"\u001b[39m\u001b[39mPlease input a binary value: \u001b[39m\u001b[39m\"\u001b[39m)\n\u001b[0;32m---> <a href='vscode-notebook-cell://wsl%2Bubuntu/home/aditya_nav/vscode/CSPrepository2/_notebooks/2022-12-01-unit-3-section5.ipynb#X11sdnNjb2RlLXJlbW90ZQ%3D%3D?line=20'>21</a>\u001b[0m \u001b[39mprint\u001b[39m(\u001b[39m\"\u001b[39m\u001b[39mbinary to number conversion is: \u001b[39m\u001b[39m\"\u001b[39m, numberTobinary(m))\n",
      "\u001b[1;32m/home/aditya_nav/vscode/CSPrepository2/_notebooks/2022-12-01-unit-3-section5.ipynb Cell 9\u001b[0m in \u001b[0;36mnumberTobinary\u001b[0;34m(y)\u001b[0m\n\u001b[1;32m      <a href='vscode-notebook-cell://wsl%2Bubuntu/home/aditya_nav/vscode/CSPrepository2/_notebooks/2022-12-01-unit-3-section5.ipynb#X11sdnNjb2RlLXJlbW90ZQ%3D%3D?line=7'>8</a>\u001b[0m \u001b[39mdef\u001b[39;00m \u001b[39mnumberTobinary\u001b[39m(y):\n\u001b[0;32m----> <a href='vscode-notebook-cell://wsl%2Bubuntu/home/aditya_nav/vscode/CSPrepository2/_notebooks/2022-12-01-unit-3-section5.ipynb#X11sdnNjb2RlLXJlbW90ZQ%3D%3D?line=8'>9</a>\u001b[0m     \u001b[39mreturn\u001b[39;00m \u001b[39mint\u001b[39;49m(y, \u001b[39m2\u001b[39;49m)\n",
      "\u001b[0;31mValueError\u001b[0m: invalid literal for int() with base 2: ''"
     ]
    }
   ],
   "source": [
    "# Function to convert decimal to binary\n",
    "# using built-in python function\n",
    "def decimalToBinary(n):\n",
    "    # converting decimal to binary\n",
    "    # and removing the prefix(0b)\n",
    "    return bin(n).replace(\"0b\", \"0\")\n",
    "\n",
    "def numberTobinary(y):\n",
    "    return int(y, 2)\n",
    "   \n",
    "    \n",
    "x = int(input(\"Please input a number \"))\n",
    "while x >= 0:\n",
    "    z = decimalToBinary(x)\n",
    "    print(\"binary conversion is: \", z)\n",
    "    l = int(z)\n",
    "    print(\"Hexadecial conversion is: \", hex(l))\n",
    "    break\n",
    "\n",
    "m = input(\"Please input a binary value: \")\n",
    "print(\"binary to number conversion is: \", numberTobinary(m))\n",
    "\n",
    "#for i in range(1,256):\n",
    " #   print(decimalToBinary(i))"
   ]
  },
  {
   "cell_type": "markdown",
   "metadata": {},
   "source": [
    "### The values\n",
    "- the input for the while loop or the first input is 5.\n",
    "- the input for the second input was 1011.\n",
    "- The code outputs for the first input the binary value and the hexadecimal conversion of that binary \n",
    "- The second part of the code converts an input of binary value into its coressponding number."
   ]
  },
  {
   "cell_type": "markdown",
   "metadata": {},
   "source": [
    "## Something Extra"
   ]
  },
  {
   "cell_type": "code",
   "execution_count": 37,
   "metadata": {},
   "outputs": [
    {
     "name": "stdout",
     "output_type": "stream",
     "text": [
      "The original string is : hi\n",
      "The string after binary conversion : 0110100001101001\n"
     ]
    }
   ],
   "source": [
    "# Python3 code to demonstrate working of\n",
    "# Converting String to binary\n",
    "# Using join() + bytearray() + format()\n",
    "\n",
    "# initializing string\n",
    "test_str = input(\"any word or sentence: \")\n",
    "\n",
    "# printing original string\n",
    "print(\"The original string is : \" + str(test_str))\n",
    "\n",
    "# using join() + bytearray() + format()\n",
    "# Converting String to binary\n",
    "res = ''.join(format(i, '08b') for i in bytearray(test_str, encoding ='utf-8'))\n",
    "\n",
    "# printing result\n",
    "print(\"The string after binary conversion : \" + str(res))\n",
    "\n",
    "    "
   ]
  },
  {
   "cell_type": "markdown",
   "metadata": {},
   "source": [
    "### The code \n",
    "- This coding segemt converts any string value into binary\n",
    "- try not to make it to big the binary will be very long"
   ]
  }
 ],
 "metadata": {
  "kernelspec": {
   "display_name": "Python 3.9.12 ('base')",
   "language": "python",
   "name": "python3"
  },
  "language_info": {
   "codemirror_mode": {
    "name": "ipython",
    "version": 3
   },
   "file_extension": ".py",
   "mimetype": "text/x-python",
   "name": "python",
   "nbconvert_exporter": "python",
   "pygments_lexer": "ipython3",
   "version": "3.9.12"
  },
  "orig_nbformat": 4,
  "vscode": {
   "interpreter": {
    "hash": "ffda36da5e336773557fa7c30d144cf9d160c713e7c8b02e8b2fa513010a8eb7"
   }
  }
 },
 "nbformat": 4,
 "nbformat_minor": 2
}
