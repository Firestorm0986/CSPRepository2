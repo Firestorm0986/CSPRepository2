{
 "cells": [
  {
   "cell_type": "markdown",
   "metadata": {},
   "source": [
    "# All Notes\n",
    "> All notes for unit 2 and 3\n",
    "\n",
    "- toc: true\n",
    "- layout: post\n",
    "- description: Big Idea 3 sections 12 and 13\n",
    "- categories: [week-14]\n",
    "- title: All notes\n",
    "- author: Aditya Ajay Nawandhar\n",
    "- show_tags: true\n",
    "- comments: true\n",
    "- image: images/postimage3.png"
   ]
  },
  {
   "cell_type": "markdown",
   "metadata": {},
   "source": [
    "Bits, Bytes, Hexadecimal / Nibbles\n",
    "Binary Numbers: Unsigned Integer, Signed Integer, Floating Point\n",
    "Binary Data Abstractions: Boolean, ASCII, Unicode, RGB\n",
    "Data Compression: Lossy, Lossless (note discussed yet)"
   ]
  },
  {
   "cell_type": "markdown",
   "metadata": {},
   "source": [
    "## Unit 2\n",
    "Bits - Smallest unit of data that a computer can process and store\n",
    "Bytes - A unit of data that is eight binary digits long\n",
    "Hexadecimal - A numbering system with base 16\n",
    "Binary Numbers - A numbering scheme in which there are only two possible values for each digit -- 0 or 1 :\n",
    "Unsigned Integer - Just like integers (whole numbers) but have the property that they don't have a + or - sign associated with them\n",
    "Signed Integer - Represent both positive and negative numbers\n",
    "Floating Point - A positive or negative whole number with a decimal point\n",
    "Binary Data Abstractions - Reduction of a particular body of data to a simplified representation of the whole:\n",
    "Boolean - A logical data type that can have only the values true or false\n",
    "ASCII - The most common character encoding format for text data in computers and on the internet\n",
    "Unicode - Universal character representation standard for text in computer processing\n",
    "RGB - A system for representing the colors to be used on a computer display\n",
    "Data Compression - the process of encoding, restructuring or otherwise modifying data in order to reduce its size:\n",
    "Lossy - the data in a file is removed and not restored to its original form after decompression\n",
    "Lossless - restores and rebuilds file data in its original form after the file is decompressed\n"
   ]
  },
  {
   "cell_type": "markdown",
   "metadata": {},
   "source": [
    "code segemets for each are in pages titled \"section 5-7\" for boolean \"big Idea 3\" for hexadecimal, unicode, binary and bits."
   ]
  },
  {
   "cell_type": "markdown",
   "metadata": {},
   "source": [
    "## Unit 3"
   ]
  },
  {
   "cell_type": "markdown",
   "metadata": {},
   "source": [
    "- Variable - A value that can change, depending on conditions or on information passed to the program\n",
    "- Data types - A classification that specifies which type of value a variable has and what type of mathematical, relational or logical operations can be applied to it without causing an error\n",
    "- Assignment Operation - The operator used to assign a new value to a variable, property, event or indexer element\n",
    "Managing Complexity with Variables - Establishes a level of complexity on which a person interacts with the system, suppressing the more complex details below the current level:\n",
    "- Lists - abstract data type that represents a finite number of ordered values, where the same value may occur more than once\n",
    "- 2D Lists - collection of data cells, all of the same type, which can be given a single name\n",
    "Dictionaries - an abstract data type that defines an unordered collection of data as a set of key-value pairs\n",
    "- Class - template definition of the method s and variable s in a particular kind of object\n",
    "- Sequence - the order in which the statements are executed\n",
    "- Selection - a programming construct where a section of code is run only if a condition is met\n",
    "- Iteration - a process where the design of a product or application is improved by repeated review and testing\n",
    "- Expressions - a combination of values and functions that are combined and interpreted by the compiler to create a new value\n",
    "- Booleans Expressions and Iteration - a logical statement that is either TRUE or FALSE where a process can be repeated\n",
    "- Truth Tables - a way of summarising and checking the logic of a circuit\n",
    "- Characters - a display unit of information equivalent to one alphabetic letter or symbol\n",
    "- Strings - a sequence of characters, either as a literal constant or as some kind of variable\n",
    "- Length - The length of a data type, can be number of characters or number of data\n",
    "- Concatenation - the operation of joining two strings together\n",
    "- Upper - Uppercase characters\n",
    "- Lower - Lowercase characters\n",
    "- Traversing Strings - accessing all the elements of the string one after the other by using the subscript\n",
    "- Combining loops with conditionals to Break, Continue - Conditionals that occur while a specific process is being repeated - can be stopped or passed\n",
    "- Procedural Abstraction - when we write code sections which are generalised by having variable parameters\n",
    "- Python Def procedures - A procedure allows us to group a block of code under a name, known as a procedure name\n",
    "- Return Values - ends the execution of a function, and returns control to the calling function"
   ]
  },
  {
   "cell_type": "markdown",
   "metadata": {},
   "source": [
    "Examples for all the above and more definitions are in the notes for all the lessons that we have done. "
   ]
  }
 ],
 "metadata": {
  "kernelspec": {
   "display_name": "Python 3.9.12 ('base')",
   "language": "python",
   "name": "python3"
  },
  "language_info": {
   "codemirror_mode": {
    "name": "ipython",
    "version": 3
   },
   "file_extension": ".py",
   "mimetype": "text/x-python",
   "name": "python",
   "nbconvert_exporter": "python",
   "pygments_lexer": "ipython3",
   "version": "3.9.12"
  },
  "orig_nbformat": 4,
  "vscode": {
   "interpreter": {
    "hash": "ffda36da5e336773557fa7c30d144cf9d160c713e7c8b02e8b2fa513010a8eb7"
   }
  }
 },
 "nbformat": 4,
 "nbformat_minor": 2
}
