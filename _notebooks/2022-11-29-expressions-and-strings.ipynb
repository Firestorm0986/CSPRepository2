{
 "cells": [
  {
   "cell_type": "markdown",
   "metadata": {},
   "source": [
    "# Big idea 3!\n",
    "> Lesson on Big Idea 3 which includes expressions, strings, psuedocode, and more!\n",
    "\n",
    "- toc: true\n",
    "- comments: true\n",
    "- categories: [Week-13,Big-Idea-3]"
   ]
  },
  {
   "cell_type": "markdown",
   "metadata": {},
   "source": [
    "## 3.3 Expressions(Show video 1 and 3)  "
   ]
  },
  {
   "cell_type": "markdown",
   "metadata": {},
   "source": [
    "### Vocab: fill in the blanks  \n",
    "  \n",
    "the symbol for exponent is **  \n",
    "the symbol for addition is __+__  \n",
    "the symbol for subtraction is __-__  \n",
    "the symbol for multiplication is __*__  \n",
    "the symbol for division is __/__  \n",
    "the symbol for modulus is __%__  \n",
    "an algorithm is  a sequence of steps that conducts a specific tasks"
   ]
  },
  {
   "cell_type": "markdown",
   "metadata": {},
   "source": [
    "Sequencing Practice: the code below does not follow the intended steps below. change the code so that it does so.\n",
    "1. divide value1 by 10(value1 = 5)  \n",
    "2. multiply 2 from the result of the step 1  \n",
    "3. subtract 4 from the result of the step 2\n",
    "4. print the result of step 3"
   ]
  },
  {
   "cell_type": "code",
   "execution_count": 9,
   "metadata": {},
   "outputs": [
    {
     "name": "stdout",
     "output_type": "stream",
     "text": [
      "-3.0\n"
     ]
    }
   ],
   "source": [
    "value1 = 5\n",
    "value2 = value1/10  \n",
    "value3 = value2 * 2\n",
    "value4 = value3 - 4\n",
    "print(value4)"
   ]
  },
  {
   "cell_type": "markdown",
   "metadata": {},
   "source": [
    "Selection/Iteration Practice: Create a function to print ONLY the numbers of numlist that are divisble by 3.  \n",
    "Hint: use the MOD operator (a % b) to find the remainder when a is divided by b."
   ]
  },
  {
   "cell_type": "code",
   "execution_count": 17,
   "metadata": {},
   "outputs": [
    {
     "name": "stdout",
     "output_type": "stream",
     "text": [
      "3 is divisible by 3\n",
      "9 is divisible by 3\n",
      "891 is divisible by 3\n"
     ]
    }
   ],
   "source": [
    "numlist = [\"3\",\"4\",\"9\",\"76\",\"891\"]\n",
    "for i in numlist:\n",
    "    if int(i) % 3 == 0:\n",
    "        print( i + \" is divisible by 3\")\n",
    "        continue\n",
    "    else:\n",
    "        continue\n",
    "            "
   ]
  },
  {
   "cell_type": "markdown",
   "metadata": {},
   "source": [
    "Homework/Binary Adaptation: Create a python function that will convert a decimal number 1-255 to binary using mathematical operations and powers of 2. Challenge: add frontend with javascript or html."
   ]
  },
  {
   "cell_type": "code",
   "execution_count": 2,
   "metadata": {},
   "outputs": [
    {
     "name": "stdout",
     "output_type": "stream",
     "text": [
      "00000000\n",
      "\"00000000\"\n",
      "00000001\n",
      "\"00000001\"\n",
      "00000010\n",
      "\"00000010\"\n",
      "00000011\n",
      "\"00000011\"\n",
      "00000100\n",
      "\"00000100\"\n",
      "00000101\n",
      "\"00000101\"\n",
      "00000110\n",
      "\"00000110\"\n",
      "00000111\n",
      "\"00000111\"\n",
      "00001000\n",
      "\"00001000\"\n",
      "00001001\n",
      "\"00001001\"\n"
     ]
    }
   ],
   "source": [
    "import json\n",
    "\n",
    "def convert(b):\n",
    "    a = \"\"\n",
    "    i = 7\n",
    "    while i >= 0:\n",
    "        if b % (2**i) == b:\n",
    "            a = a + \"0\"\n",
    "            i = i - 1\n",
    "        else:\n",
    "            a = a + \"1\"\n",
    "            b = b - 2**i\n",
    "            i = i - 1\n",
    "    print(a)\n",
    "    x = json.dumps(a)\n",
    "    print(x)\n",
    "\n",
    " \n",
    "for number in range(10):\n",
    "    convert(number)\n",
    "    \n",
    "            \n",
    "            \n",
    "\n",
    "\n",
    "        "
   ]
  },
  {
   "cell_type": "code",
   "execution_count": 3,
   "metadata": {},
   "outputs": [
    {
     "name": "stdout",
     "output_type": "stream",
     "text": [
      "1001101\n",
      "1\n",
      "10\n",
      "11\n",
      "100\n",
      "101\n",
      "110\n",
      "111\n",
      "1000\n",
      "1001\n",
      "1010\n",
      "1011\n",
      "1100\n",
      "1101\n",
      "1110\n",
      "1111\n",
      "10000\n",
      "10001\n",
      "10010\n",
      "10011\n",
      "10100\n",
      "10101\n",
      "10110\n",
      "10111\n",
      "11000\n",
      "11001\n",
      "11010\n",
      "11011\n",
      "11100\n",
      "11101\n",
      "11110\n",
      "11111\n",
      "100000\n",
      "100001\n",
      "100010\n",
      "100011\n",
      "100100\n",
      "100101\n",
      "100110\n",
      "100111\n",
      "101000\n",
      "101001\n",
      "101010\n",
      "101011\n",
      "101100\n",
      "101101\n",
      "101110\n",
      "101111\n",
      "110000\n",
      "110001\n",
      "110010\n",
      "110011\n",
      "110100\n",
      "110101\n",
      "110110\n",
      "110111\n",
      "111000\n",
      "111001\n",
      "111010\n",
      "111011\n",
      "111100\n",
      "111101\n",
      "111110\n",
      "111111\n",
      "1000000\n",
      "1000001\n",
      "1000010\n",
      "1000011\n",
      "1000100\n",
      "1000101\n",
      "1000110\n",
      "1000111\n",
      "1001000\n",
      "1001001\n",
      "1001010\n",
      "1001011\n",
      "1001100\n",
      "1001101\n",
      "1001110\n",
      "1001111\n",
      "1010000\n",
      "1010001\n",
      "1010010\n",
      "1010011\n",
      "1010100\n",
      "1010101\n",
      "1010110\n",
      "1010111\n",
      "1011000\n",
      "1011001\n",
      "1011010\n",
      "1011011\n",
      "1011100\n",
      "1011101\n",
      "1011110\n",
      "1011111\n",
      "1100000\n",
      "1100001\n",
      "1100010\n",
      "1100011\n",
      "1100100\n",
      "1100101\n",
      "1100110\n",
      "1100111\n",
      "1101000\n",
      "1101001\n",
      "1101010\n",
      "1101011\n",
      "1101100\n",
      "1101101\n",
      "1101110\n",
      "1101111\n",
      "1110000\n",
      "1110001\n",
      "1110010\n",
      "1110011\n",
      "1110100\n",
      "1110101\n",
      "1110110\n",
      "1110111\n",
      "1111000\n",
      "1111001\n",
      "1111010\n",
      "1111011\n",
      "1111100\n",
      "1111101\n",
      "1111110\n",
      "1111111\n",
      "10000000\n",
      "10000001\n",
      "10000010\n",
      "10000011\n",
      "10000100\n",
      "10000101\n",
      "10000110\n",
      "10000111\n",
      "10001000\n",
      "10001001\n",
      "10001010\n",
      "10001011\n",
      "10001100\n",
      "10001101\n",
      "10001110\n",
      "10001111\n",
      "10010000\n",
      "10010001\n",
      "10010010\n",
      "10010011\n",
      "10010100\n",
      "10010101\n",
      "10010110\n",
      "10010111\n",
      "10011000\n",
      "10011001\n",
      "10011010\n",
      "10011011\n",
      "10011100\n",
      "10011101\n",
      "10011110\n",
      "10011111\n",
      "10100000\n",
      "10100001\n",
      "10100010\n",
      "10100011\n",
      "10100100\n",
      "10100101\n",
      "10100110\n",
      "10100111\n",
      "10101000\n",
      "10101001\n",
      "10101010\n",
      "10101011\n",
      "10101100\n",
      "10101101\n",
      "10101110\n",
      "10101111\n",
      "10110000\n",
      "10110001\n",
      "10110010\n",
      "10110011\n",
      "10110100\n",
      "10110101\n",
      "10110110\n",
      "10110111\n",
      "10111000\n",
      "10111001\n",
      "10111010\n",
      "10111011\n",
      "10111100\n",
      "10111101\n",
      "10111110\n",
      "10111111\n",
      "11000000\n",
      "11000001\n",
      "11000010\n",
      "11000011\n",
      "11000100\n",
      "11000101\n",
      "11000110\n",
      "11000111\n",
      "11001000\n",
      "11001001\n",
      "11001010\n",
      "11001011\n",
      "11001100\n",
      "11001101\n",
      "11001110\n",
      "11001111\n",
      "11010000\n",
      "11010001\n",
      "11010010\n",
      "11010011\n",
      "11010100\n",
      "11010101\n",
      "11010110\n",
      "11010111\n",
      "11011000\n",
      "11011001\n",
      "11011010\n",
      "11011011\n",
      "11011100\n",
      "11011101\n",
      "11011110\n",
      "11011111\n",
      "11100000\n",
      "11100001\n",
      "11100010\n",
      "11100011\n",
      "11100100\n",
      "11100101\n",
      "11100110\n",
      "11100111\n",
      "11101000\n",
      "11101001\n",
      "11101010\n",
      "11101011\n",
      "11101100\n",
      "11101101\n",
      "11101110\n",
      "11101111\n",
      "11110000\n",
      "11110001\n",
      "11110010\n",
      "11110011\n",
      "11110100\n",
      "11110101\n",
      "11110110\n",
      "11110111\n",
      "11111000\n",
      "11111001\n",
      "11111010\n",
      "11111011\n",
      "11111100\n",
      "11111101\n",
      "11111110\n",
      "11111111\n"
     ]
    }
   ],
   "source": [
    "# Function to convert decimal to binary\n",
    "# using built-in python function\n",
    "def decimalToBinary(n):\n",
    "    # converting decimal to binary\n",
    "    # and removing the prefix(0b)\n",
    "    return bin(n).replace(\"0b\", \"\")\n",
    "   \n",
    "# Driver code\n",
    "if __name__ == '__main__':\n",
    "    # calling function\n",
    "    # with decimal argument\n",
    "    print(decimalToBinary(77))\n",
    "    \n",
    "    \n",
    "for i in range(1,256):\n",
    "    print(decimalToBinary(i))\n"
   ]
  },
  {
   "cell_type": "markdown",
   "metadata": {},
   "source": [
    "<html>\n",
    "<script>\n",
    "    function myFunction() {\n",
    "      document.getElementById(\"demo\").innerHTML = \"x\";\n",
    "}\n",
    "</script>\n",
    "<div>\n",
    "    <button type=\"button\" id = \"but\" onclick = \"myFunction()\"></button>\n",
    "    <p id=\"demo\"></p>\n",
    "</div>\n",
    "</html>"
   ]
  },
  {
   "cell_type": "markdown",
   "metadata": {},
   "source": [
    "## 3.4 Strings(Show video 1)"
   ]
  },
  {
   "cell_type": "markdown",
   "metadata": {},
   "source": [
    "### Vocab: fill in the blanks using the video\n",
    "Index is a number representing a position, like a character's position in a string or a string's position in a list.  \n",
    "Concatenation is - Concatenating means obtaining a new string that contains both of the original strings.\n",
    "Length is - it can return the number of items in a list. You can use the function with many different data types.  \n",
    "A substring is - A substring is a subset or part of another string, or it is a contiguous sequence of characters within a string "
   ]
  },
  {
   "cell_type": "markdown",
   "metadata": {},
   "source": [
    "### Substring/Length Practice: change the print functions to print \"hello\", \"bye\", and the string length"
   ]
  },
  {
   "cell_type": "code",
   "execution_count": 23,
   "metadata": {},
   "outputs": [
    {
     "name": "stdout",
     "output_type": "stream",
     "text": [
      "8\n",
      "hello\n",
      "bye\n"
     ]
    }
   ],
   "source": [
    "#substring = string[start:end] \n",
    "#the substring will have the characters including the index \"start\" to the character BEFORE the index \"end\"\n",
    "#len(string) will print the length of string\n",
    "\n",
    "string = \"hellobye\"\n",
    "print(len(string))\n",
    "print(string[0:5])\n",
    "print(string[5:8])"
   ]
  },
  {
   "cell_type": "markdown",
   "metadata": {},
   "source": [
    "Concatenation Practice: combine string1 and string2 to make string3, then print string3."
   ]
  },
  {
   "cell_type": "code",
   "execution_count": 4,
   "metadata": {},
   "outputs": [
    {
     "name": "stdout",
     "output_type": "stream",
     "text": [
      "computer science\n"
     ]
    }
   ],
   "source": [
    "#string1 + string2 will add string2 to the end of string1\n",
    "\n",
    "string1 = \"computer\"\n",
    "string2 = \"science\"\n",
    "string3 = string1 + \" \" + string2\n",
    "print(string3)"
   ]
  },
  {
   "cell_type": "markdown",
   "metadata": {},
   "source": [
    "Homework/List Adaptation: create a function that prints the name of each string in the list and the string's length. Challenge: add frontend with javascript or html."
   ]
  },
  {
   "cell_type": "code",
   "execution_count": 31,
   "metadata": {},
   "outputs": [
    {
     "name": "stdout",
     "output_type": "stream",
     "text": [
      "5 jaden\n",
      "3 max\n",
      "5 dylan\n",
      "7 orlando\n"
     ]
    }
   ],
   "source": [
    "names = [\"jaden\",\"max\",\"dylan\",\"orlando\"]\n",
    "\n",
    "def length(list):\n",
    "    for i in names:\n",
    "        print(len(i), i)\n",
    "\n",
    "length(names)\n"
   ]
  },
  {
   "cell_type": "markdown",
   "metadata": {},
   "source": [
    "# Notes\n",
    "- substring is part of a string\n",
    "- pseudocode is explaining what the code will do. Helps others understand the code\n",
    "- Pseudocode is writing out a program in plain language with keywords that are used to refer to common coding concepts.\n",
    "- suntax for substring is print(string[start:end])\n",
    "- index is the position of each character or element inside a object (can be string, number, list dictionary)"
   ]
  }
 ],
 "metadata": {
  "kernelspec": {
   "display_name": "Python 3.8.10 64-bit",
   "language": "python",
   "name": "python3"
  },
  "language_info": {
   "codemirror_mode": {
    "name": "ipython",
    "version": 3
   },
   "file_extension": ".py",
   "mimetype": "text/x-python",
   "name": "python",
   "nbconvert_exporter": "python",
   "pygments_lexer": "ipython3",
   "version": "3.8.10"
  },
  "orig_nbformat": 4,
  "vscode": {
   "interpreter": {
    "hash": "916dbcbb3f70747c44a77c7bcd40155683ae19c65e1c03b4aa3499c5328201f1"
   }
  }
 },
 "nbformat": 4,
 "nbformat_minor": 2
}
