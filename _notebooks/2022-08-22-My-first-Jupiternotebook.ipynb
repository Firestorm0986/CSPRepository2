{
 "cells": [
  {
   "cell_type": "markdown",
   "metadata": {},
   "source": [
    "# Python Post\n",
    "> Python Post \n",
    "\n",
    "- toc: true\n",
    "- layout: post\n",
    "- description: My first Jupyter Notebook post for AP CSP\n",
    "- categories: [jupyter]\n",
    "- title: My First Jupyter Notebook\n",
    "- author: Aditya Ajay Nawandhar\n",
    "- show_tags: true\n",
    "- comments: true"
    "- image: images/CSPPIC.png"
   ]
  },
  {
   "cell_type": "markdown",
   "metadata": {},
   "source": [
    "# Using The Print Function\n",
    "Doing the same in a Jupiter Notebook"
   ]
  },
  {
   "cell_type": "code",
   "execution_count": 1,
   "metadata": {},
   "outputs": [
    {
     "name": "stdout",
     "output_type": "stream",
     "text": [
      "Hello World\n"
     ]
    }
   ],
   "source": [
    "print (\"Hello World\")"
   ]
  },
  {
   "cell_type": "markdown",
   "metadata": {},
   "source": [
    "## Using The Function Agian\n",
    "I don't know why, just using the Print function seems fun."
   ]
  },
  {
   "cell_type": "code",
   "execution_count": 5,
   "metadata": {},
   "outputs": [
    {
     "name": "stdout",
     "output_type": "stream",
     "text": [
      "Hello World \n",
      " Hello World \n",
      " Hello World \n",
      " Hello World \n",
      " Hello World \n",
      " \n"
     ]
    }
   ],
   "source": [
    "print (\"Hello World \\n \" * 5)"
   ]
  },
  {
   "cell_type": "markdown",
   "metadata": {},
   "source": [
    "## Using the Print Function Some More\n",
    "Help I guess"
   ]
  },
  {
   "cell_type": "code",
   "execution_count": 2,
   "metadata": {},
   "outputs": [
    {
     "name": "stdout",
     "output_type": "stream",
     "text": [
      "i'm great\n"
     ]
    }
   ],
   "source": [
    "phrase = \"python is great\"\n",
    "print(f\"{phrase[7]}'m {phrase[10:]}\")"
   ]
  }
 ],
 "metadata": {
  "kernelspec": {
   "display_name": "Python 3.9.0 64-bit",
   "language": "python",
   "name": "python3"
  },
  "language_info": {
   "codemirror_mode": {
    "name": "ipython",
    "version": 3
   },
   "file_extension": ".py",
   "mimetype": "text/x-python",
   "name": "python",
   "nbconvert_exporter": "python",
   "pygments_lexer": "ipython3",
   "version": "3.9.0"
  },
  "orig_nbformat": 4,
  "vscode": {
   "interpreter": {
    "hash": "146024bc4ebcea82d6f0f1cfe869c05df138522fe231a140ddf9a9ac15d51aae"
   }
  }
 },
 "nbformat": 4,
 "nbformat_minor": 2
}
