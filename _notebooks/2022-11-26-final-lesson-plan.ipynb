{
 "cells": [
  {
   "cell_type": "markdown",
   "metadata": {},
   "source": [
    "# Application Programming Interface (API)\n",
    "> APIs can be found all over the internet.  A great consolidator of many APIs is\n",
    "\n",
    "- toc: true\n",
    "- layout: post\n",
    "- description: lesson plan\n",
    "- categories: [week-1]\n",
    "- title: Final Lesson Plan\n",
    "- author: Aditya Ajay Nawandhar\n",
    "- show_tags: true\n",
    "- comments: true\n",
    "- image: images/postimage11.png"
   ]
  },
  {
   "cell_type": "markdown",
   "metadata": {},
   "source": [
    "# Data Abstraction"
   ]
  },
  {
   "cell_type": "markdown",
   "metadata": {},
   "source": [
    "## Using simple lists and working with variables"
   ]
  },
  {
   "cell_type": "code",
   "execution_count": 3,
   "metadata": {},
   "outputs": [
    {
     "name": "stdout",
     "output_type": "stream",
     "text": [
      "139939430214464\n",
      "139939430214464\n",
      "['milk', 'pasta', 'eggs', 'spam', 'bread', 'rice']\n",
      "['milk', 'pasta', 'eggs', 'spam', 'bread', 'rice', 'cookies']\n",
      "139939430214464\n",
      "['milk', 'pasta', 'eggs', 'spam', 'bread', 'rice', 'cookies']\n",
      "['milk', 'pasta', 'eggs', 'spam', 'bread', 'rice', 'cookies']\n",
      "Adding cream\n",
      "['milk', 'pasta', 'eggs', 'spam', 'bread', 'rice', 'cookies', 'cream']\n",
      "['milk', 'pasta', 'eggs', 'spam', 'bread', 'rice', 'cookies', 'cream']\n",
      "['milk', 'pasta', 'eggs', 'spam', 'bread', 'rice', 'cookies', 'cream']\n"
     ]
    }
   ],
   "source": [
    "shopping_list = [\"milk\",\n",
    "                 \"pasta\",\n",
    "                 \"eggs\",\n",
    "                 \"spam\",\n",
    "                 \"bread\",\n",
    "                 \"rice\"\n",
    "                 ] # list syntax is \"[]\"\n",
    "another_list = shopping_list\n",
    "print(id(shopping_list)) # each object has a uniques id; the id() function returns this id for the specifies object\n",
    "print(id(another_list)) # As shopping_list is attritibuted to another_list, the id for both are the same as the object in questiom does not change\n",
    "print(another_list)\n",
    "\n",
    "shopping_list += [\"cookies\"] # adding cookies to the list\n",
    "print(shopping_list)\n",
    "print(id(shopping_list)) # the id does not change\n",
    "print(another_list)\n",
    "\n",
    "a = b = c = d = e = f = another_list # it is possibe to atrribute the same object to various variables\n",
    "print(a)\n",
    "\n",
    "print(\"Adding cream\")\n",
    "# .append() is a function which can be used to place new items into old lists \n",
    "b.append(\"cream\") # changes in one of the variables chnges all the lists in other as the object in question is the same.\n",
    "print(a)\n",
    "print(c)\n",
    "print(d)"
   ]
  },
  {
   "cell_type": "markdown",
   "metadata": {},
   "source": [
    "## Breaking lists into more lists"
   ]
  },
  {
   "cell_type": "code",
   "execution_count": 4,
   "metadata": {},
   "outputs": [
    {
     "name": "stdout",
     "output_type": "stream",
     "text": [
      "Shrubs ['Andromeda - Shrub', 'Hydrangea - Shrub', 'Japanese Camellia - Shrub', 'Lavender - Shrub', 'Lilac - Shrub', 'Magnolia - Shrub', 'Peony - Shrub', 'Witch Hazel - Shrub']\n",
      "Flowers ['Bellflower - Flower', 'China Pink - Flower', 'Daffodil - Flower', 'Evening Primrose - Flower', 'French Marigold - Flower', 'Iris - Flower', \"Queen Anne's Lace - Flower\", 'Red Hot Poker - Flower', 'Snapdragon - Flower', 'Sunflower - Flower', 'Tiger Lily - Flower']\n"
     ]
    }
   ],
   "source": [
    "data = [\n",
    "    \"Andromeda - Shrub\",\n",
    "    \"Bellflower - Flower\",\n",
    "    \"China Pink - Flower\",\n",
    "    \"Daffodil - Flower\",\n",
    "    \"Evening Primrose - Flower\",\n",
    "    \"French Marigold - Flower\",\n",
    "    \"Hydrangea - Shrub\",\n",
    "    \"Iris - Flower\",\n",
    "    \"Japanese Camellia - Shrub\",\n",
    "    \"Lavender - Shrub\",\n",
    "    \"Lilac - Shrub\",\n",
    "    \"Magnolia - Shrub\",\n",
    "    \"Peony - Shrub\",\n",
    "    \"Queen Anne's Lace - Flower\",\n",
    "    \"Red Hot Poker - Flower\",\n",
    "    \"Snapdragon - Flower\",\n",
    "    \"Sunflower - Flower\",\n",
    "    \"Tiger Lily - Flower\",\n",
    "    \"Witch Hazel - Shrub\",\n",
    "]\n",
    "\n",
    "flowers = []\n",
    "shrubs = []\n",
    "\n",
    "for plant in data:\n",
    "    if \"Flower\" in plant:\n",
    "        flowers.append(plant)\n",
    "    elif \"Flower\" not in plant:\n",
    "        shrubs.append(plant)\n",
    "print(\"Shrubs {}\".format(shrubs))\n",
    "print(\"Flowers {}\".format(flowers))"
   ]
  },
  {
   "cell_type": "code",
   "execution_count": null,
   "metadata": {},
   "outputs": [],
   "source": [
    "albums = [(\"Welcome to my nightmare\", \"Alice cooper\", 1975),\n",
    "          (\"Bad Company\", \"Bad Company\", 1974),\n",
    "          (\"Nightflight\", \"Budgie\", 1981),\n",
    "          (\"More Mayhem\", \"Emilda May\", 2011),\n",
    "          (\"Ride the Lightning\", \"Metallica\", 1984),\n",
    "          ]\n",
    "print(len(albums))\n",
    "\n",
    "for name, artist, year in albums:\n",
    "    print(\"Album: {}, Artist: {}, year: {}\"\n",
    "          .format(name, artist, year))"
   ]
  },
  {
   "cell_type": "code",
   "execution_count": null,
   "metadata": {},
   "outputs": [],
   "source": [
    "panagram = \"\"\"the quick brown\n",
    "fox jumps\\tover \n",
    "the lazy dog\"\"\"\n",
    "\n",
    "words = panagram.split()\n",
    "print(words)\n",
    "\n",
    "numbers = \"9,223,372,036,854,775,807\"\n",
    "print(numbers.split(\"'\"))\n",
    "\n",
    "generated_list = ['9', ' ',\n",
    "                  '2', '2', '3', ' ',\n",
    "                  '3', '7', '2', ' ',\n",
    "                  '0', '3', '6', ' ',\n",
    "                  '8', '5', '4', ' ',\n",
    "                  '7', '7', '5', ' ',\n",
    "                  '8', '0', '7', ' ',\n",
    "                  ]\n",
    "values = \"\".join(generated_list)\n",
    "print(values)\n",
    "\n",
    "values_list = values.split()\n",
    "print(values_list)"
   ]
  },
  {
   "cell_type": "code",
   "execution_count": null,
   "metadata": {},
   "outputs": [],
   "source": []
  }
 ],
 "metadata": {
  "kernelspec": {
   "display_name": "Python 3.9.12 ('base')",
   "language": "python",
   "name": "python3"
  },
  "language_info": {
   "codemirror_mode": {
    "name": "ipython",
    "version": 3
   },
   "file_extension": ".py",
   "mimetype": "text/x-python",
   "name": "python",
   "nbconvert_exporter": "python",
   "pygments_lexer": "ipython3",
   "version": "3.9.12"
  },
  "orig_nbformat": 4,
  "vscode": {
   "interpreter": {
    "hash": "ffda36da5e336773557fa7c30d144cf9d160c713e7c8b02e8b2fa513010a8eb7"
   }
  }
 },
 "nbformat": 4,
 "nbformat_minor": 2
}
