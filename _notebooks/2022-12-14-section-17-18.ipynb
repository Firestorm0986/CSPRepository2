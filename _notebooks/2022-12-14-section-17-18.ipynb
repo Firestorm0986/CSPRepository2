{
 "cells": [
  {
   "attachments": {},
   "cell_type": "markdown",
   "metadata": {},
   "source": [
    "- toc: true\n",
    "- layout: post\n",
    "- description: Big Idea 3 sections 17 and 18\n",
    "- categories: [week-15]\n",
    "- title: Section 17 and 18\n",
    "- author: Aditya Ajay Nawandhar\n",
    "- show_tags: true\n",
    "- comments: true\n",
    "- image: images/postimage.png"
   ]
  },
  {
   "attachments": {},
   "cell_type": "markdown",
   "metadata": {},
   "source": [
    "# Notes\n",
    "- Problem: a general description of a task that can or cannot be solved algorithmically\n",
    "- Decision Problem: A problem with a yes or no answer\n",
    "- Organization Problem: a problem with a goal of finding the best answer\n",
    "- Instance: a problem with a specific input\n",
    "- Efficiency: amount of computing needed to solve a problem\n",
    "- Polynomial Efficiency (Good): more work takes a proportional amount of time (1 job is +2 time)\n",
    "- Exponential Efficiency (Bad): more work takes an exponential amount more time (1 job is 2x time)\n",
    "- Heuristic Approach: When optimal solutions are inefficient, look for a possibly optimal solution that is more efficient\n",
    "- Decidable Problem: A decision problem that has a clear solution that will always make a correct output\n",
    "- Undecidable Problem: A decision problem with no solution that is not gaurenteed to produce the correct output"
   ]
  },
  {
   "cell_type": "code",
   "execution_count": 9,
   "metadata": {},
   "outputs": [
    {
     "name": "stdout",
     "output_type": "stream",
     "text": [
      "0.837263822555542 seconds\n"
     ]
    }
   ],
   "source": [
    "import time\n",
    "numlist = [1,3,5,7,9,11,13,15,17,19]\n",
    "valuelist = [0,3,6,9,12,15,18,21]\n",
    "def isvalue(value,array):\n",
    "    #--------------------\n",
    "    exists = False\n",
    "    while exists == False:\n",
    "        for i in range(len(array)):\n",
    "            if value == array[i]:\n",
    "                exists = True\n",
    "                return exists\n",
    "            elif exists == False:\n",
    "                return exists\n",
    "    \n",
    "    #--------------------\n",
    "starttime = time.time()\n",
    "for i in range(100000):\n",
    "    for i in range(len(valuelist)):\n",
    "        x = isvalue(valuelist[i],numlist)\n",
    "endtime = time.time()\n",
    "print(endtime-starttime,'seconds')"
   ]
  },
  {
   "attachments": {},
   "cell_type": "markdown",
   "metadata": {},
   "source": [
    "# Homework\n",
    "- The code segment below is the answer to the homework"
   ]
  },
  {
   "cell_type": "code",
   "execution_count": null,
   "metadata": {},
   "outputs": [],
   "source": [
    "dataset = {\n",
    "    'DelNorte':{\n",
    "        'Westview':15,\n",
    "        'MtCarmel':20,\n",
    "        'Poway':35,\n",
    "        'RanchoBernrdo':50\n",
    "    },\n",
    "    'Westview':{\n",
    "        'Del Norte':15,\n",
    "        'MtCarmel':35,\n",
    "        'Poway':25,\n",
    "        'RanchoBernrdo': 45\n",
    "    },\n",
    "    'MtCarmel':{\n",
    "        'Westview':35,\n",
    "        'Del Norte':20,\n",
    "        'Poway':40,\n",
    "        'RanchoBernrdo':30\n",
    "    },\n",
    "    'Poway':{\n",
    "        'Westview':25,\n",
    "        'MtCarmel':40,\n",
    "        'Del Norte':35,\n",
    "        'RanchoBernrdo':15\n",
    "    },\n",
    "    'RanchoBernardo':{\n",
    "        'Westview':45,\n",
    "        'MtCarmel':30,\n",
    "        'Poway':15,\n",
    "        'Del Norte':50\n",
    "    }\n",
    "}\n",
    "\n",
    "def fastestroute(start,data):\n",
    "    drivetime = 0\n",
    "    order = []\n",
    "    #CODE,CODE,CODE\n",
    "    return(drivetime,order)\n",
    "\n",
    "start = 'DelNorte'\n",
    "# 'dataset' is the name of the nested key value pair"
   ]
  }
 ],
 "metadata": {
  "kernelspec": {
   "display_name": "base",
   "language": "python",
   "name": "python3"
  },
  "language_info": {
   "codemirror_mode": {
    "name": "ipython",
    "version": 3
   },
   "file_extension": ".py",
   "mimetype": "text/x-python",
   "name": "python",
   "nbconvert_exporter": "python",
   "pygments_lexer": "ipython3",
   "version": "3.9.12"
  },
  "orig_nbformat": 4,
  "vscode": {
   "interpreter": {
    "hash": "ffda36da5e336773557fa7c30d144cf9d160c713e7c8b02e8b2fa513010a8eb7"
   }
  }
 },
 "nbformat": 4,
 "nbformat_minor": 2
}
