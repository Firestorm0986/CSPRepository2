{
 "cells": [
  {
   "cell_type": "markdown",
   "metadata": {},
   "source": [
    "# Section 14 and 15\n",
    "\n",
    "- toc: true\n",
    "- layout: post\n",
    "- description: Big Idea 3 sections 14 and 15\n",
    "- categories: [week-15]\n",
    "- title: Section 14 and 15\n",
    "- author: Aditya Ajay Nawandhar\n",
    "- show_tags: true\n",
    "- comments: true\n",
    "- image: images/postimage6.png"
   ]
  },
  {
   "cell_type": "markdown",
   "metadata": {},
   "source": [
    "# Notes \n",
    "- special keyword Import requiered to access methods and fucntions\n",
    "- Sometimes we only need to import a single method from the package. We can do that with the word \"from\", followed by the package name, then the word \"import\", then the method. \n",
    "- This will alllow you to use the method without mentioning the package's name, unlike what we did before, however other methods from that package cannot be used. To get the best of both worlds you can use \"*\".\n",
    "- you can re name the package using \"as\" for example \"import random as rd\"\n",
    "- Random Values are a number generated using a large set of numbers and a mathematical algorithm which gives equal probability to all number occuring\n",
    "- Each Result from randomization is equally likely to occur Using random number generation in a program means each execution may produce a different result\n",
    "- "
   ]
  },
  {
   "cell_type": "markdown",
   "metadata": {},
   "source": [
    "## Fill in the blanks \n",
    "- You've already learned about functions that you can write to reuse in your code in previous lessons. But,there are many others who code in python just like you. So why would you do again what someone has already done, and is available for any python user?\n",
    "\n",
    "- Packages allow a python user to import methods from a library, and use the methods in their code. Most package come with documentation on the different methods they entail and how to use them, and they can be found with a quick google search."
   ]
  },
  {
   "attachments": {},
   "cell_type": "markdown",
   "metadata": {},
   "source": [
    "### Classwork\n",
    "[the class work on repl](https://firestorm0986.github.io/CSPrepository2/markdown/week-15/2022/12/14/replit-images.html)"
   ]
  },
  {
   "cell_type": "markdown",
   "metadata": {},
   "source": [
    "## Challenge 1\n"
   ]
  },
  {
   "cell_type": "code",
   "execution_count": 5,
   "metadata": {},
   "outputs": [
    {
     "name": "stdout",
     "output_type": "stream",
     "text": [
      "11\n"
     ]
    }
   ],
   "source": [
    "import math \n",
    "n = math.ceil(10.5)\n",
    "print(n)"
   ]
  },
  {
   "cell_type": "markdown",
   "metadata": {},
   "source": [
    "## Challenge 2\n",
    "each number rounded up\n",
    "each number rounded down\n",
    "the lcm of the rounded down numbers\n",
    "the gcf of the rounded up numbers\n",
    "the factorial of each number\n",
    "something else using the math package!"
   ]
  },
  {
   "cell_type": "code",
   "execution_count": 11,
   "metadata": {},
   "outputs": [
    {
     "name": "stdout",
     "output_type": "stream",
     "text": [
      "2\n",
      "3\n",
      "2\n",
      "2\n",
      "6\n",
      "1\n",
      "2\n",
      "6\n",
      "-1.0\n"
     ]
    }
   ],
   "source": [
    "import math\n",
    "\n",
    "num1 = int(input(\"input the first number: \"))\n",
    "num2 = int(input(\"input the second umber: \"))\n",
    "\n",
    "print(math.ceil(num1))\n",
    "print(math.ceil(num2))\n",
    "print(math.floor(num1))\n",
    "print(math.floor(num1))\n",
    "print(math.lcm(num1, num2))\n",
    "print(math.gcd(num1, num2))\n",
    "print(math.factorial(num1))\n",
    "print(math.factorial(num2))\n",
    "print(math.remainder(num1, num2))\n"
   ]
  },
  {
   "cell_type": "markdown",
   "metadata": {},
   "source": [
    "## Challenge 3"
   ]
  },
  {
   "cell_type": "code",
   "execution_count": 2,
   "metadata": {},
   "outputs": [
    {
     "name": "stdout",
     "output_type": "stream",
     "text": [
      "2\n",
      "tails\n",
      "None\n"
     ]
    }
   ],
   "source": [
    "import random\n",
    "def coinflip():\n",
    "    random_flip = random.randint(1,2)\n",
    "    print(random_flip)\n",
    "    if random_flip == 1:\n",
    "        print(\"heads\")\n",
    "    else:\n",
    "        print(\"tails\")\n",
    "\n",
    "print(coinflip())\n"
   ]
  },
  {
   "attachments": {},
   "cell_type": "markdown",
   "metadata": {},
   "source": [
    "# Homework 1\n",
    "- [click me](https://firestorm0986.github.io/CSPrepository2/markdown/week-15/2022/12/14/replit-images.html)"
   ]
  },
  {
   "cell_type": "markdown",
   "metadata": {},
   "source": [
    "# Homework 2"
   ]
  },
  {
   "cell_type": "code",
   "execution_count": 29,
   "metadata": {},
   "outputs": [
    {
     "name": "stdout",
     "output_type": "stream",
     "text": [
      "6\n",
      "110\n",
      "0x6e\n"
     ]
    }
   ],
   "source": [
    "import random\n",
    "\n",
    "x = random.randint(1, 100)\n",
    "\n",
    "print(x)\n",
    "binary = int(bin(x).replace(\"0b\", \"0\"))\n",
    "hexa = hex(binary)\n",
    "print(binary)\n",
    "print(hexa)\n",
    "\n"
   ]
  }
 ],
 "metadata": {
  "kernelspec": {
   "display_name": "Python 3.9.12 ('base')",
   "language": "python",
   "name": "python3"
  },
  "language_info": {
   "codemirror_mode": {
    "name": "ipython",
    "version": 3
   },
   "file_extension": ".py",
   "mimetype": "text/x-python",
   "name": "python",
   "nbconvert_exporter": "python",
   "pygments_lexer": "ipython3",
   "version": "3.9.12"
  },
  "orig_nbformat": 4,
  "vscode": {
   "interpreter": {
    "hash": "ffda36da5e336773557fa7c30d144cf9d160c713e7c8b02e8b2fa513010a8eb7"
   }
  }
 },
 "nbformat": 4,
 "nbformat_minor": 2
}
