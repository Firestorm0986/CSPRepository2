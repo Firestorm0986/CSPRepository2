{
 "cells": [
  {
   "attachments": {},
   "cell_type": "markdown",
   "metadata": {},
   "source": [
    "# Unit 3 Lesson 16, Student Copy\n",
    "- toc: true\n",
    "- comments: true\n"
   ]
  },
  {
   "attachments": {},
   "cell_type": "markdown",
   "metadata": {},
   "source": [
    "### Hack #1 - Class Notes\n",
    "\n",
    "- Simulations are abstractions that mimic more complex objects or phenomena from the real world\n",
    "- Purposes include drawing inferences without the contraints of the real world\n",
    "- Simulations use varying sets of values to reflect the changing state of a real phenomenon\n",
    "Often, when developing a simulation, it is necessary to remove specific details or simplify aspects\n",
    "- Simulations can often contain bias based on which details or real-world elements were included/excluded\n",
    "- Simulations allow the formulation of hypotheses under consideration\n",
    "- Variability and randomness of the world is considered using random number generators\n",
    "Examples: rolling dice"
   ]
  },
  {
   "attachments": {},
   "cell_type": "markdown",
   "metadata": {},
   "source": [
    "### Hack #2 - Functions Classwork"
   ]
  },
  {
   "cell_type": "code",
   "execution_count": 3,
   "metadata": {},
   "outputs": [
    {
     "name": "stdout",
     "output_type": "stream",
     "text": [
      "The first number for the range is:  5\n",
      "The second number for the range is:  10\n",
      "The range provided is between:  5 and 10\n",
      "A random number between the given parameters for the range is:  7\n"
     ]
    }
   ],
   "source": [
    "import random # a module that defines a series of functions for generating or manipulating random integers\n",
    "\n",
    "num1 = int(input(\"the first number for the range: \")) # user input for the range value\n",
    "print(\"The first number for the range is: \", num1) # showing the input\n",
    "num2 = int(input(\"the second number for the range: \")) # user input for the range value\n",
    "print(\"The second number for the range is: \", num2) # showing the input\n",
    "x = random.randint(num1, num2) # rnadom vlaue between the given range\n",
    "\n",
    "print(\"The range provided is between: \", num1, \"and\", num2)\n",
    "\n",
    "print(\"A random number between the given parameters for the range is: \", x) # final answer\n",
    "\n"
   ]
  },
  {
   "cell_type": "code",
   "execution_count": 12,
   "metadata": {},
   "outputs": [
    {
     "name": "stdout",
     "output_type": "stream",
     "text": [
      "The item added is: suit\n",
      "red shoes\n",
      "green pants\n",
      "tie\n",
      "belt\n",
      "suit\n",
      "None\n"
     ]
    }
   ],
   "source": [
    "def mycloset(inputed):\n",
    "    myclothes = [\"red shoes\", \"green pants\", \"tie\", \"belt\"]\n",
    "    new_list = [\"suit\", \"red shirt\", \"white pant\", \"grey shorts\"] # new list made containing clothes and items that can be added\n",
    "    x = inputed\n",
    "    #print(\"you choose to \" + x)\n",
    "    if x == \"add\": # runs if input is add\n",
    "        choice_add = random.choice(new_list) # chooses a random item from the new_list\n",
    "        myclothes.append(choice_add) # adds the item to the myclothes list\n",
    "        print(\"The item added is: \" + choice_add)\n",
    "        for i in myclothes:\n",
    "            print(i) # outputs the updated list\n",
    "    elif x == \"trash\": # runs if input is trash\n",
    "        choice_trash = random.choice(mycloset)  # chooses a random item from the myclothes\n",
    "        mycloset.remove(choice_trash) # removes the item choosen\n",
    "        print(\"The item removed is: \" + choice_trash)\n",
    "        for i in mycloset:\n",
    "            print(i)  # outputs the updated list\n",
    "        \n",
    "print(mycloset(input(\"choose to add or trash a item in your clothes: \"))) # user input"
   ]
  },
  {
   "cell_type": "markdown",
   "metadata": {},
   "source": [
    "### Hack #3 - Binary Simulation Problem"
   ]
  },
  {
   "cell_type": "code",
   "execution_count": 67,
   "metadata": {},
   "outputs": [
    {
     "name": "stdout",
     "output_type": "stream",
     "text": [
      "The binary is: 01010000\n",
      "You are a zombie: Jiya\n",
      "you are a survivor: Shruthi\n",
      "You are a zombie: Noor\n",
      "you are a survivor: Ananya\n",
      "You are a zombie: Peter Parker\n",
      "You are a zombie: Andrew Garfield\n",
      "You are a zombie: Tom Holland\n",
      "You are a zombie: Tobey Maguire\n",
      "None\n"
     ]
    }
   ],
   "source": [
    "# insert your zombie simulation here; you don't have to use this template but it will help you get started\n",
    "\n",
    "import random\n",
    "\n",
    "def randomnum(): # function for generating random int\n",
    "    x = random.randint(1, 255) # chooses a random int vlaue between 1 and 255\n",
    "    binary1 = bin(x).replace(\"0b\", \"\") # bin() function outputs the value as 0b(the binary), .replace replaces the 0b with nothing\n",
    "    final_binary = binary1.zfill(8) # bin() function does not provide 8 binary vlaues, but only whats needed so .zfill() fucntion makes the binary have 8 values\n",
    "    return final_binary  # output returns the fianl binary\n",
    "\n",
    "    \n",
    "\n",
    "def survivors(binary): # function to assign position\n",
    "    print(\"The binary is: \" + binary)\n",
    "    survivorstatus = [\"Jiya\", \"Shruthi\", \"Noor\", \"Ananya\" , \"Peter Parker\", \"Andrew Garfield\", \"Tom Holland\", \"Tobey Maguire\"]\n",
    "    # replace the names above with your choice of people in the house\n",
    "    index = 0 # used to change the index value every time the for loop is looped\n",
    "    for i in binary:\n",
    "        if i == \"0\": # assigns binary value to the person in the list\n",
    "            print(\"You are a zombie: \" + survivorstatus[index]) # chekcks and prints if zombie ir survivor\n",
    "        else: # assigns binary value to the person in the list\n",
    "            print(\"you are a survivor: \" + survivorstatus[index]) # chekcks and prints if zombie ir survivor\n",
    "        index = index + 1\n",
    "\n",
    "find = randomnum() # sued to genrate a rnadom number\n",
    "\n",
    "final = survivors(find) # calling the function\n",
    "print(final)"
   ]
  },
  {
   "cell_type": "markdown",
   "metadata": {},
   "source": [
    "### Hack #4 - Thinking through a problem\n",
    "- create your own simulation involving a dice roll\n",
    "- should include randomization and a function for rolling + multiple trials"
   ]
  },
  {
   "cell_type": "code",
   "execution_count": 77,
   "metadata": {},
   "outputs": [
    {
     "name": "stdout",
     "output_type": "stream",
     "text": [
      "roll for more rolls and stop to stop rolling\n",
      "4\n",
      "4\n",
      "6\n"
     ]
    }
   ],
   "source": [
    "import random\n",
    "\n",
    "def roling():\n",
    "    print(\"roll for more rolls and stop to stop rolling\")\n",
    "    while True: # keeps runnig \n",
    "        input_1 = input(\"please input your choice: \") # user input\n",
    "        if input_1 == \"roll\" or input_1 == \"stop\": # checks if the input is roll or stop and then assigns value\n",
    "            x = random.randint(1,6) # if roll then finds a random number between 1 and 6 ti immitate a dice\n",
    "            print(x) \n",
    "            pass\n",
    "            if input_1 == \"stop\": # if input is stop stops the fucntiona dn program and while loop\n",
    "                break\n",
    "\n",
    "\n",
    "    \n",
    "roling() # driver code\n",
    "\n",
    "\n",
    "        "
   ]
  },
  {
   "attachments": {},
   "cell_type": "markdown",
   "metadata": {},
   "source": [
    "### Hack 5 - Applying your knowledge to situation based problems\n",
    "\n",
    "Using the questions bank below, create a quiz that presents the user a random question and calculates the user's score. You can use the template below or make your own. Making your own using a loop can give you extra points. "
   ]
  },
  {
   "attachments": {},
   "cell_type": "markdown",
   "metadata": {},
   "source": [
    "1. A researcher gathers data about the effect of Advanced Placement®︎ classes on students' success in college and career, and develops a simulation to show how a sequence of AP classes affect a hypothetical student's pathway.Several school administrators are concerned that the simulation contains bias favoring high-income students, however.\n",
    "    - answer options:\n",
    "        1. The simulation is an abstraction and therefore cannot contain any bias\n",
    "        2. `The simulation may accidentally contain bias due to the exclusion of details.`\n",
    "        3. If the simulation is found to contain bias, then it is not possible to remove the bias from the simulation.\n",
    "        4. The only way for the simulation to be biased is if the researcher intentionally used data that favored their desired output.\n",
    "2. Jack is trying to plan his financial future using an online tool. The tool starts off by asking him to input details about his current finances and career. It then lets him choose different future scenarios, such as having children. For each scenario chosen, the tool does some calculations and outputs his projected savings at the ages of 35, 45, and 55.Would that be considered a simulation and why?\n",
    "    - answer options\n",
    "        1. No, it's not a simulation because it does not include a visualization of the results.\n",
    "        2. No, it's not a simulation because it does not include all the details of his life history and the future financial environment.\n",
    "        3. Yes, it's a simulation because it runs on a computer and includes both user input and computed output.\n",
    "        4. `Yes, it's a simulation because it is an abstraction of a real world scenario that enables the drawing of inferences.`\n",
    "3. Sylvia is an industrial engineer working for a sporting goods company. She is developing a baseball bat that can hit balls with higher accuracy and asks their software engineering team to develop a simulation to verify the design.Which of the following details is most important to include in this simulation?\n",
    "    - answer options\n",
    "        1. Realistic sound effects based on the material of the baseball bat and the velocity of the hit (\"\")\n",
    "        2. A depiction of an audience in the stands with lifelike behavior in response to hit accuracy (\"\")\n",
    "        3. `Accurate accounting for the effects of wind conditions on the movement of the ball`\n",
    "        4. A baseball field that is textured to differentiate between the grass and the dirt\n",
    "4. Ashlynn is an industrial engineer who is trying to design a safer parachute. She creates a computer simulation of the parachute opening at different heights and in different environmental conditions.What are advantages of running the simulation versus an actual experiment?\n",
    "    - answer options\n",
    "        1. The simulation will not contain any bias that favors one body type over another, while an experiment will be biased.\n",
    "        2. The simulation can be run more safely than an actual experiment\n",
    "        3. ` The simulation will accurately predict the parachute's safety level, while an experiment may be inaccurate due to faulty experimental design.` \n",
    "        4. ` The simulation can test the parachute design in a wide range of environmental conditions that may be difficult to reliably reproduce in an experiment.`\n",
    "    * this question has 2 correct answers\n",
    "5. YOUR OWN QUESTION; can be situational, pseudo code based, or vocab/concept based\n",
    "6. YOUR OWN QUESTION; can be situational, pseudo code based, or vocab/concept based"
   ]
  },
  {
   "cell_type": "code",
   "execution_count": 116,
   "metadata": {},
   "outputs": [
    {
     "name": "stdout",
     "output_type": "stream",
     "text": [
      "use the numbering above to answer the questions with only the number\n",
      "==========\n",
      "1: A researcher gathers data about the effect of Advanced Placement®︎ classes on students' success in college and career, and develops a simulation to show how a sequence of AP classes affect a hypothetical student's pathway.Several school administrators are concerned that the simulation contains bias favoring high-income students, however.\n",
      "1\n",
      "2\n",
      "3\n",
      "4\n",
      "correct\n",
      "2: Ashlynn is an industrial engineer who is trying to design a safer parachute. She creates a computer simulation of the parachute opening at different heights and in different environmental conditions.What are advantages of running the simulation versus an actual experiment?\n",
      "1\n",
      "2\n",
      "3\n",
      "4\n",
      "correct\n",
      "3: Jack is trying to plan his financial future using an online tool. The tool starts off by asking him to input details about his current finances and career. It then lets him choose different future scenarios, such as having children. For each scenario chosen, the tool does some calculations and outputs his projected savings at the ages of 35, 45, and 55.Would that be considered a simulation and why?\n",
      "1\n",
      "2\n",
      "3\n",
      "4\n",
      "4: Sylvia is an industrial engineer working for a sporting goods company. She is developing a baseball bat that can hit balls with higher accuracy and asks their software engineering team to develop a simulation to verify the design.Which of the following details is most important to include in this simulation?\n",
      "1\n",
      "2\n",
      "3\n",
      "4\n",
      "5: Simulations contain  \n",
      "bias\n",
      "simplified aspects\n",
      "both\n",
      "non of the above\n",
      "correct\n",
      "6: Ashlynn is an industrial engineer who is trying to design a safer parachute. She creates a computer simulation of the parachute opening at different heights and in different environmental conditions.What are advantages of running the simulation versus an actual experiment?\n",
      "1\n",
      "2\n",
      "3\n",
      "4\n",
      "3 /10\n"
     ]
    }
   ],
   "source": [
    "import random \n",
    "questions_list = [\n",
    "    (\"A researcher gathers data about the effect of Advanced Placement®︎ classes on students' success in college and career, and develops a simulation to show how a sequence of AP classes affect a hypothetical student's pathway.Several school administrators are concerned that the simulation contains bias favoring high-income students, however.\",\n",
    "     {\n",
    "         \"1\": \"wrong\",\n",
    "         \"2\": \"correct\",\n",
    "         \"3\": \"wrong\",\n",
    "         \"4\": \"wrong\",\n",
    "        }\n",
    "     ),\n",
    "    (\"Jack is trying to plan his financial future using an online tool. The tool starts off by asking him to input details about his current finances and career. It then lets him choose different future scenarios, such as having children. For each scenario chosen, the tool does some calculations and outputs his projected savings at the ages of 35, 45, and 55.Would that be considered a simulation and why?\",\n",
    "      {\n",
    "         \"1\": \"wrong\",\n",
    "         \"2\": \"wrong\",\n",
    "         \"3\": \"wrong\",\n",
    "         \"4\": \"correct\",\n",
    "        }\n",
    "     ),\n",
    "    (\"Sylvia is an industrial engineer working for a sporting goods company. She is developing a baseball bat that can hit balls with higher accuracy and asks their software engineering team to develop a simulation to verify the design.Which of the following details is most important to include in this simulation?\",\n",
    "      {\n",
    "         \"1\": \"wrong\",\n",
    "         \"2\": \"wong\",\n",
    "         \"3\": \"correct\",\n",
    "         \"4\": \"wrong\",\n",
    "        }\n",
    "     ),\n",
    "    (\"Ashlynn is an industrial engineer who is trying to design a safer parachute. She creates a computer simulation of the parachute opening at different heights and in different environmental conditions.What are advantages of running the simulation versus an actual experiment?\",\n",
    "     {\n",
    "      \"1\": \"wrong\",\n",
    "      \"2\": \"wrong\",\n",
    "      \"3\":\"correct\",\n",
    "      \"4\":\"correct\",\n",
    "     }\n",
    "     ),\n",
    "    (\"what are simulations?  \",\n",
    "     {\n",
    "        \"A way to roll a dice\": \"wrong\",\n",
    "      \"Simulations are abstractions that mimic more complex objects or phenomena from the real world\": \"correct\",\n",
    "      \"food\":\"wrong\",\n",
    "      \"all of the above\":\"wrong\",\n",
    "     }\n",
    "    ),\n",
    "\n",
    "    (\"Simulations contain  \",\n",
    "     {\n",
    "        \"bias\": \"wrong\",\n",
    "      \"simplified aspects\": \"wrong\",\n",
    "      \"both\":\"correct\",\n",
    "      \"non of the above\":\"wrong\",\n",
    "     }\n",
    "    ),\n",
    "\n",
    "\n",
    "]\n",
    "\n",
    "print(\"use the numbering above to answer the questions with only the number\")\n",
    "print(\"=\"*10)\n",
    "new_list = []\n",
    "# The for loop below makes a new list of randomized questions\n",
    "for i in questions_list:\n",
    "  let = random.choice(questions_list)\n",
    "  new_list.append(let)\n",
    "\n",
    "\n",
    "score = 0 # used to calculate score, 1 added if answer provided is correct\n",
    "for index, (questions, answers) in enumerate(new_list):\n",
    "    if index >= 0: \n",
    "        print(\"{}: {}\".format(index + 1, questions)) #prints the question and the index vlaue it is at +1\n",
    "        for i in answers.keys():\n",
    "            print(\"{}\".format(i)) # print all the choices asscociated wiht the questions \n",
    "        x = input(\"your answer: \")\n",
    "        for y in answers.keys(): # checks weather the answer is correct or wrong\n",
    "            if x == y:\n",
    "              if answers[y] == \"correct\":\n",
    "                print(\"correct\")\n",
    "                score = score + 1 #  increase the score\n",
    "print(score, \"/10\") # prints the score\n"
   ]
  },
  {
   "attachments": {},
   "cell_type": "markdown",
   "metadata": {},
   "source": [
    "### Hack #6 / Challenge - Taking real life problems and implementing them into code"
   ]
  },
  {
   "attachments": {},
   "cell_type": "markdown",
   "metadata": {},
   "source": [
    "Create your own simulation based on your experiences/knowledge!\n",
    "Be creative! Think about instances in your own life, science, puzzles that can be made into simulations\n",
    "\n",
    "Some ideas to get your brain running: A simulation that breeds two plants and tells you phenotypes of offspring, an adventure simulation..."
   ]
  },
  {
   "attachments": {},
   "cell_type": "markdown",
   "metadata": {},
   "source": [
    "### Answer\n",
    "- Here I made a simulation for calculating the distance travelled at diffrent speeds in the smae amount of time. \n",
    "- I only did two diffrent simulations but by increaseing the the number on the while loop in the fucntion you can run more simulations\n",
    "- Here I use the rnadom library to get random values for time and speed. I use the first and second speed values and multiply them with each diffrent time intervals. This helps compare at whoch speed is the car covering more distance and at which time interval it does so.\n",
    "- "
   ]
  },
  {
   "cell_type": "code",
   "execution_count": 148,
   "metadata": {},
   "outputs": [
    {
     "name": "stdout",
     "output_type": "stream",
     "text": [
      "the speeds are:  [29, 65]\n",
      "the Times are:  [66, 84]\n",
      "==========\n",
      "the distance traveled at speed 29 at time 66 is  1914\n",
      "the distance traveled at speed 65 at time 66 is  4290\n",
      "==========\n",
      "the distance traveled at speed 29 at time 84 is  2436\n",
      "the distance traveled at speed 65 at time 84 is  5460\n"
     ]
    }
   ],
   "source": [
    "import random \n",
    "def calculae(speed, time):\n",
    "    marker = 0 # used to exit and creat the while loop\n",
    "    while marker <= 2:\n",
    "        for i in time: # used to iterate through time intervals we have\n",
    "            time_fianl = i\n",
    "            print\n",
    "            print(\"=\"*10)\n",
    "            for s in speed: # used to itterate throught the speed intervals we have\n",
    "                speed_final = s\n",
    "                distnace = speed_final*time_fianl\n",
    "                marker = marker + 1 # adds one to the marker so that the while loop can stop after 2 loops\n",
    "                print(\"the distance traveled at speed {0} at time {1} is \".format(speed_final, time_fianl), distnace)\n",
    "                 \n",
    "        \n",
    "        \n",
    "        \n",
    "         \n",
    "\n",
    "\n",
    "\n",
    "speed_list = [] # list that will contain the random speed values\n",
    "time_list = [] # list that will contain the random time values\n",
    "for i in range(2):\n",
    "    speed_all = random.randint(1, 100)  # random speed value\n",
    "     \n",
    "    speed_list.append(speed_all) # adding to the list\n",
    "    time_all = random.randint(1,100)\n",
    "    \n",
    "    time_list.append(time_all) # adding to the list \n",
    "print(\"the speeds are: \", speed_list)\n",
    "print(\"the Times are: \", time_list)\n",
    "calculae(speed_list, time_list) # calling the custom function"
   ]
  }
 ],
 "metadata": {
  "kernelspec": {
   "display_name": "Python 3",
   "language": "python",
   "name": "python3"
  },
  "language_info": {
   "codemirror_mode": {
    "name": "ipython",
    "version": 3
   },
   "file_extension": ".py",
   "mimetype": "text/x-python",
   "name": "python",
   "nbconvert_exporter": "python",
   "pygments_lexer": "ipython3",
   "version": "3.10.6 (main, Nov 14 2022, 16:10:14) [GCC 11.3.0]"
  },
  "orig_nbformat": 4,
  "vscode": {
   "interpreter": {
    "hash": "916dbcbb3f70747c44a77c7bcd40155683ae19c65e1c03b4aa3499c5328201f1"
   }
  }
 },
 "nbformat": 4,
 "nbformat_minor": 2
}
