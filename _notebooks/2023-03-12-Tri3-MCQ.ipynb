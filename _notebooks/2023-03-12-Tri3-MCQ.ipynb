{
 "cells": [
  {
   "attachments": {},
   "cell_type": "markdown",
   "metadata": {},
   "source": [
    "#  Tri 3 MCQ\n",
    "> MCQ from TRI 3\n",
    "- toc: true\n",
    "- categories: []\n",
    "- type: ap\n",
    "- week: 25"
   ]
  },
  {
   "attachments": {},
   "cell_type": "markdown",
   "metadata": {},
   "source": [
    "## Wrong Question 1\n",
    "![image](https://user-images.githubusercontent.com/108041389/224534000-c74b5d35-3970-4a73-9007-39a3f40ab5a9.png)\n",
    "\n",
    "### Explanation\n",
    "> - The procedure will not display the correct value of foundIndex if the targetName is \"Ben\". In the FOR EACH loop, when the value of name is \"Andrea\", the ELSE statement sets foundIndex to 0. When the value of name is \"Ben\", the ELSE statement sets foundIndex to 1. But as the loop continues, and the value of name is \"Chris\", the ELSE statement sets foundIndex to 0. The procedure displays 0, even though the correct answer is 1.\n",
    "> - The one that I chose displays the correct index value. I forgot about the third loop will change the index number again."
   ]
  },
  {
   "attachments": {},
   "cell_type": "markdown",
   "metadata": {},
   "source": [
    "## Wrong Question 2\n",
    "![image](https://user-images.githubusercontent.com/108041389/224534242-c4dc35b1-204e-435e-b9b9-7a4d5fe84363.png)\n",
    "\n",
    "\n",
    "### Explanation\n",
    "- Program documentation is written throughout the development process, and it should be modified as the program is written and modified. Since programs are often modified after they are first written, the documentation should be modified as well.\n",
    "- The correct answers - During initial program development, documentation can allow the writer to organize his or her thinking, state assumptions about input, and explain the path of future development. When modifications are made to existing programs, documentation is used to record the changes or additions to an existing program."
   ]
  },
  {
   "attachments": {},
   "cell_type": "markdown",
   "metadata": {},
   "source": [
    "## Wrong Question 3\n",
    "![image](https://user-images.githubusercontent.com/108041389/224534283-3b424aca-1980-4547-808c-c86b9a543983.png)\n",
    "### Explanation\n",
    " -  The fourth statement assigns the value false to a. The fifth statement assigns the value false to c.\n",
    " - The first three statements assign values to the variables. The fourth statement assigns the value of (NOT (a OR b)) AND c to a. Since a OR b is true, NOT (a OR b) is false, so (NOT (a OR b)) AND c is false. The fifth statement assigns the value of c AND a to c. Since a is now false, c AND a is false. The last three statements display the values of the variables.\n"
   ]
  },
  {
   "attachments": {},
   "cell_type": "markdown",
   "metadata": {},
   "source": [
    "## Wrong Question 4\n",
    "![image](https://user-images.githubusercontent.com/108041389/224534054-e429a2b8-dd94-4f08-9586-1614535be44c.png)\n",
    "\n",
    "### Explanation\n",
    " -  The values can be stored in any numerical base as long as they are sorted.\n",
    " - In order for a binary search on a list to work as intended, the list must be sorted."
   ]
  },
  {
   "attachments": {},
   "cell_type": "markdown",
   "metadata": {},
   "source": [
    "## Wrong Question 5\n",
    "![image](https://user-images.githubusercontent.com/108041389/224534112-b7e47335-f6d6-46ba-872c-5870fe7fe924.png)\n",
    "\n",
    "### Explanation\n",
    "- A binary search will work on any sorted list, regardless of whether the list contains duplicate elements.\n",
    "- Correct. In order for a binary search on a list to work, the elements of the list must be sorted."
   ]
  },
  {
   "attachments": {},
   "cell_type": "markdown",
   "metadata": {},
   "source": [
    "## Wrong Question 6 \n",
    "![image](https://user-images.githubusercontent.com/108041389/224534209-820e2c2d-aa27-46d0-84b4-38da55c97a49.png)\n",
    "\n",
    "### Explanation \n",
    "- I read the firsst part of the question wrong"
   ]
  }
 ],
 "metadata": {
  "language_info": {
   "name": "python"
  },
  "orig_nbformat": 4
 },
 "nbformat": 4,
 "nbformat_minor": 2
}
